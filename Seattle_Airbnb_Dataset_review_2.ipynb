{
  "nbformat": 4,
  "nbformat_minor": 0,
  "metadata": {
    "colab": {
      "name": "Seattle Airbnb Dataset review 2.ipynb",
      "provenance": []
    },
    "kernelspec": {
      "name": "python3",
      "display_name": "Python 3"
    },
    "language_info": {
      "name": "python"
    }
  },
  "cells": [
    {
      "cell_type": "markdown",
      "source": [
        "# **<h1><center>Exploring the Seattle 2016 Airbnb Data!</center></h1>**"
      ],
      "metadata": {
        "id": "tbAhgbXCJmv0"
      }
    },
    {
      "cell_type": "markdown",
      "source": [
        "# **1. Bussines Uderstanding**"
      ],
      "metadata": {
        "id": "pBL0L4-vWMii"
      }
    },
    {
      "cell_type": "markdown",
      "source": [
        "Airbnb is a platform that can be accessed in search of short, medium and long-term accommodation places, in which people can post their properties and pay a commission to airbnb, in this work we find the information of the properties offered in Seattle in the year 2016.\n",
        "\n",
        "The data we are going to explore in this notebook was obtained from the Seattle Airbnb Open Data Kaggle site. In this dataset we can found information about the availability, prices, charactheristics of the listed places and about the host of each one of them and reviews from users."
      ],
      "metadata": {
        "id": "7slab-d0WMXy"
      }
    },
    {
      "cell_type": "markdown",
      "source": [
        "I'm going to implement the CRISP-DM process as part of the project requirements for Udacity's Data Scientist Nanodegree. The CRISP-DM process has six elements:\n",
        "\n",
        "Business Understanding\n",
        "\n",
        "1. Data Understanding\n",
        "2. Data Preparation\n",
        "3. Modeling\n",
        "4. Evaluation\n",
        "5. Deployment"
      ],
      "metadata": {
        "id": "tNcDDNYHWMJu"
      }
    },
    {
      "cell_type": "markdown",
      "source": [
        "### **Import Libraries**"
      ],
      "metadata": {
        "id": "BpznXQYZQE5f"
      }
    },
    {
      "cell_type": "code",
      "execution_count": 1,
      "metadata": {
        "id": "5q1DeR2XFwgi"
      },
      "outputs": [],
      "source": [
        "import numpy as np\n",
        "import pandas as pd\n",
        "import matplotlib.pyplot as plt\n",
        "from sklearn.linear_model import LinearRegression\n",
        "from sklearn.model_selection import train_test_split\n",
        "from sklearn.metrics import r2_score, mean_squared_error\n",
        "import seaborn as sns\n",
        "from datetime import datetime\n",
        "from collections import defaultdict\n",
        "from sklearn.feature_selection import SelectKBest\n",
        "from sklearn.feature_selection import f_regression\n",
        "import math\n",
        "%matplotlib inline\n",
        "\n",
        "from pandas.plotting import register_matplotlib_converters\n",
        "register_matplotlib_converters()"
      ]
    },
    {
      "cell_type": "markdown",
      "source": [
        "# **2. Data Understanding**"
      ],
      "metadata": {
        "id": "O563cXtRQWod"
      }
    },
    {
      "cell_type": "code",
      "source": [
        "#Import data\n",
        "\n",
        "# Calendar\n",
        "df_cal = pd.read_csv('/content/calendar.csv')\n",
        "# Listings\n",
        "df_list = pd.read_csv('/content/listings.csv')\n",
        "# reviews\n",
        "df_rev = pd.read_csv('/content/reviews.csv')"
      ],
      "metadata": {
        "id": "b4QYAT0HQsyC"
      },
      "execution_count": 2,
      "outputs": []
    },
    {
      "cell_type": "markdown",
      "source": [
        "### **2.1 Calendar**\n",
        "\n",
        "as we can see in the table below the dataset contains information of the availability lists per id by date and the listing price"
      ],
      "metadata": {
        "id": "Oy-2HaVvZTCg"
      }
    },
    {
      "cell_type": "code",
      "source": [
        "df_cal.head()"
      ],
      "metadata": {
        "colab": {
          "base_uri": "https://localhost:8080/",
          "height": 206
        },
        "id": "DfLnGwZHY81E",
        "outputId": "3168e99e-a9d0-4159-9c3c-d99916abf3d6"
      },
      "execution_count": 3,
      "outputs": [
        {
          "output_type": "execute_result",
          "data": {
            "text/html": [
              "\n",
              "  <div id=\"df-40487f63-8465-431c-bb15-c76e079ef36d\">\n",
              "    <div class=\"colab-df-container\">\n",
              "      <div>\n",
              "<style scoped>\n",
              "    .dataframe tbody tr th:only-of-type {\n",
              "        vertical-align: middle;\n",
              "    }\n",
              "\n",
              "    .dataframe tbody tr th {\n",
              "        vertical-align: top;\n",
              "    }\n",
              "\n",
              "    .dataframe thead th {\n",
              "        text-align: right;\n",
              "    }\n",
              "</style>\n",
              "<table border=\"1\" class=\"dataframe\">\n",
              "  <thead>\n",
              "    <tr style=\"text-align: right;\">\n",
              "      <th></th>\n",
              "      <th>listing_id</th>\n",
              "      <th>date</th>\n",
              "      <th>available</th>\n",
              "      <th>price</th>\n",
              "    </tr>\n",
              "  </thead>\n",
              "  <tbody>\n",
              "    <tr>\n",
              "      <th>0</th>\n",
              "      <td>241032</td>\n",
              "      <td>2016-01-04</td>\n",
              "      <td>t</td>\n",
              "      <td>$85.00</td>\n",
              "    </tr>\n",
              "    <tr>\n",
              "      <th>1</th>\n",
              "      <td>241032</td>\n",
              "      <td>2016-01-05</td>\n",
              "      <td>t</td>\n",
              "      <td>$85.00</td>\n",
              "    </tr>\n",
              "    <tr>\n",
              "      <th>2</th>\n",
              "      <td>241032</td>\n",
              "      <td>2016-01-06</td>\n",
              "      <td>f</td>\n",
              "      <td>NaN</td>\n",
              "    </tr>\n",
              "    <tr>\n",
              "      <th>3</th>\n",
              "      <td>241032</td>\n",
              "      <td>2016-01-07</td>\n",
              "      <td>f</td>\n",
              "      <td>NaN</td>\n",
              "    </tr>\n",
              "    <tr>\n",
              "      <th>4</th>\n",
              "      <td>241032</td>\n",
              "      <td>2016-01-08</td>\n",
              "      <td>f</td>\n",
              "      <td>NaN</td>\n",
              "    </tr>\n",
              "  </tbody>\n",
              "</table>\n",
              "</div>\n",
              "      <button class=\"colab-df-convert\" onclick=\"convertToInteractive('df-40487f63-8465-431c-bb15-c76e079ef36d')\"\n",
              "              title=\"Convert this dataframe to an interactive table.\"\n",
              "              style=\"display:none;\">\n",
              "        \n",
              "  <svg xmlns=\"http://www.w3.org/2000/svg\" height=\"24px\"viewBox=\"0 0 24 24\"\n",
              "       width=\"24px\">\n",
              "    <path d=\"M0 0h24v24H0V0z\" fill=\"none\"/>\n",
              "    <path d=\"M18.56 5.44l.94 2.06.94-2.06 2.06-.94-2.06-.94-.94-2.06-.94 2.06-2.06.94zm-11 1L8.5 8.5l.94-2.06 2.06-.94-2.06-.94L8.5 2.5l-.94 2.06-2.06.94zm10 10l.94 2.06.94-2.06 2.06-.94-2.06-.94-.94-2.06-.94 2.06-2.06.94z\"/><path d=\"M17.41 7.96l-1.37-1.37c-.4-.4-.92-.59-1.43-.59-.52 0-1.04.2-1.43.59L10.3 9.45l-7.72 7.72c-.78.78-.78 2.05 0 2.83L4 21.41c.39.39.9.59 1.41.59.51 0 1.02-.2 1.41-.59l7.78-7.78 2.81-2.81c.8-.78.8-2.07 0-2.86zM5.41 20L4 18.59l7.72-7.72 1.47 1.35L5.41 20z\"/>\n",
              "  </svg>\n",
              "      </button>\n",
              "      \n",
              "  <style>\n",
              "    .colab-df-container {\n",
              "      display:flex;\n",
              "      flex-wrap:wrap;\n",
              "      gap: 12px;\n",
              "    }\n",
              "\n",
              "    .colab-df-convert {\n",
              "      background-color: #E8F0FE;\n",
              "      border: none;\n",
              "      border-radius: 50%;\n",
              "      cursor: pointer;\n",
              "      display: none;\n",
              "      fill: #1967D2;\n",
              "      height: 32px;\n",
              "      padding: 0 0 0 0;\n",
              "      width: 32px;\n",
              "    }\n",
              "\n",
              "    .colab-df-convert:hover {\n",
              "      background-color: #E2EBFA;\n",
              "      box-shadow: 0px 1px 2px rgba(60, 64, 67, 0.3), 0px 1px 3px 1px rgba(60, 64, 67, 0.15);\n",
              "      fill: #174EA6;\n",
              "    }\n",
              "\n",
              "    [theme=dark] .colab-df-convert {\n",
              "      background-color: #3B4455;\n",
              "      fill: #D2E3FC;\n",
              "    }\n",
              "\n",
              "    [theme=dark] .colab-df-convert:hover {\n",
              "      background-color: #434B5C;\n",
              "      box-shadow: 0px 1px 3px 1px rgba(0, 0, 0, 0.15);\n",
              "      filter: drop-shadow(0px 1px 2px rgba(0, 0, 0, 0.3));\n",
              "      fill: #FFFFFF;\n",
              "    }\n",
              "  </style>\n",
              "\n",
              "      <script>\n",
              "        const buttonEl =\n",
              "          document.querySelector('#df-40487f63-8465-431c-bb15-c76e079ef36d button.colab-df-convert');\n",
              "        buttonEl.style.display =\n",
              "          google.colab.kernel.accessAllowed ? 'block' : 'none';\n",
              "\n",
              "        async function convertToInteractive(key) {\n",
              "          const element = document.querySelector('#df-40487f63-8465-431c-bb15-c76e079ef36d');\n",
              "          const dataTable =\n",
              "            await google.colab.kernel.invokeFunction('convertToInteractive',\n",
              "                                                     [key], {});\n",
              "          if (!dataTable) return;\n",
              "\n",
              "          const docLinkHtml = 'Like what you see? Visit the ' +\n",
              "            '<a target=\"_blank\" href=https://colab.research.google.com/notebooks/data_table.ipynb>data table notebook</a>'\n",
              "            + ' to learn more about interactive tables.';\n",
              "          element.innerHTML = '';\n",
              "          dataTable['output_type'] = 'display_data';\n",
              "          await google.colab.output.renderOutput(dataTable, element);\n",
              "          const docLink = document.createElement('div');\n",
              "          docLink.innerHTML = docLinkHtml;\n",
              "          element.appendChild(docLink);\n",
              "        }\n",
              "      </script>\n",
              "    </div>\n",
              "  </div>\n",
              "  "
            ],
            "text/plain": [
              "   listing_id        date available   price\n",
              "0      241032  2016-01-04         t  $85.00\n",
              "1      241032  2016-01-05         t  $85.00\n",
              "2      241032  2016-01-06         f     NaN\n",
              "3      241032  2016-01-07         f     NaN\n",
              "4      241032  2016-01-08         f     NaN"
            ]
          },
          "metadata": {},
          "execution_count": 3
        }
      ]
    },
    {
      "cell_type": "markdown",
      "source": [
        "There is some issues in the datatype we can identify fron the info function, the steps we hace to follow are lited next:\n",
        "\n",
        "* listing_id: convert to `str`\n",
        "* date: convert to `datetime`\n",
        "* available: convert to dummy\n",
        "* price: drop $ and convert to float/int\n",
        "\n",
        "Aditionaly it is possible to see that the only column with missing values is price.\n",
        "\n"
      ],
      "metadata": {
        "id": "zoFXnj0KZw--"
      }
    },
    {
      "cell_type": "code",
      "source": [
        "df_cal.info()"
      ],
      "metadata": {
        "colab": {
          "base_uri": "https://localhost:8080/"
        },
        "id": "xrbIW-kdZHPQ",
        "outputId": "6fce81d0-d429-434c-ead0-db7d1834a527"
      },
      "execution_count": 4,
      "outputs": [
        {
          "output_type": "stream",
          "name": "stdout",
          "text": [
            "<class 'pandas.core.frame.DataFrame'>\n",
            "RangeIndex: 1393570 entries, 0 to 1393569\n",
            "Data columns (total 4 columns):\n",
            " #   Column      Non-Null Count    Dtype \n",
            "---  ------      --------------    ----- \n",
            " 0   listing_id  1393570 non-null  int64 \n",
            " 1   date        1393570 non-null  object\n",
            " 2   available   1393570 non-null  object\n",
            " 3   price       934542 non-null   object\n",
            "dtypes: int64(1), object(3)\n",
            "memory usage: 42.5+ MB\n"
          ]
        }
      ]
    },
    {
      "cell_type": "markdown",
      "source": [
        "If we explore the possible reasson why the price column has null values we found that this happend because we only have the price of the listed propietries who are avaliable"
      ],
      "metadata": {
        "id": "Vk5B8R1BaqzO"
      }
    },
    {
      "cell_type": "code",
      "source": [
        "# Check if number of missing values in the price colum \n",
        "df_cal.price.isna().sum() "
      ],
      "metadata": {
        "colab": {
          "base_uri": "https://localhost:8080/"
        },
        "id": "N_y92iLMapCT",
        "outputId": "568f5740-5966-427d-c5de-a7b83f5341b2"
      },
      "execution_count": 5,
      "outputs": [
        {
          "output_type": "execute_result",
          "data": {
            "text/plain": [
              "459028"
            ]
          },
          "metadata": {},
          "execution_count": 5
        }
      ]
    },
    {
      "cell_type": "code",
      "source": [
        "# Check if number of missing values in the availability column \n",
        "df_cal.isna().groupby([df_cal['available']]).sum()"
      ],
      "metadata": {
        "colab": {
          "base_uri": "https://localhost:8080/",
          "height": 143
        },
        "id": "DJ2YRPtMcNIx",
        "outputId": "f822e9af-97c9-42a6-c8e1-3200e99c9878"
      },
      "execution_count": 6,
      "outputs": [
        {
          "output_type": "execute_result",
          "data": {
            "text/html": [
              "\n",
              "  <div id=\"df-6236e113-ab34-4708-96a1-1045e28d44ef\">\n",
              "    <div class=\"colab-df-container\">\n",
              "      <div>\n",
              "<style scoped>\n",
              "    .dataframe tbody tr th:only-of-type {\n",
              "        vertical-align: middle;\n",
              "    }\n",
              "\n",
              "    .dataframe tbody tr th {\n",
              "        vertical-align: top;\n",
              "    }\n",
              "\n",
              "    .dataframe thead th {\n",
              "        text-align: right;\n",
              "    }\n",
              "</style>\n",
              "<table border=\"1\" class=\"dataframe\">\n",
              "  <thead>\n",
              "    <tr style=\"text-align: right;\">\n",
              "      <th></th>\n",
              "      <th>listing_id</th>\n",
              "      <th>date</th>\n",
              "      <th>available</th>\n",
              "      <th>price</th>\n",
              "    </tr>\n",
              "    <tr>\n",
              "      <th>available</th>\n",
              "      <th></th>\n",
              "      <th></th>\n",
              "      <th></th>\n",
              "      <th></th>\n",
              "    </tr>\n",
              "  </thead>\n",
              "  <tbody>\n",
              "    <tr>\n",
              "      <th>f</th>\n",
              "      <td>0</td>\n",
              "      <td>0</td>\n",
              "      <td>0</td>\n",
              "      <td>459028</td>\n",
              "    </tr>\n",
              "    <tr>\n",
              "      <th>t</th>\n",
              "      <td>0</td>\n",
              "      <td>0</td>\n",
              "      <td>0</td>\n",
              "      <td>0</td>\n",
              "    </tr>\n",
              "  </tbody>\n",
              "</table>\n",
              "</div>\n",
              "      <button class=\"colab-df-convert\" onclick=\"convertToInteractive('df-6236e113-ab34-4708-96a1-1045e28d44ef')\"\n",
              "              title=\"Convert this dataframe to an interactive table.\"\n",
              "              style=\"display:none;\">\n",
              "        \n",
              "  <svg xmlns=\"http://www.w3.org/2000/svg\" height=\"24px\"viewBox=\"0 0 24 24\"\n",
              "       width=\"24px\">\n",
              "    <path d=\"M0 0h24v24H0V0z\" fill=\"none\"/>\n",
              "    <path d=\"M18.56 5.44l.94 2.06.94-2.06 2.06-.94-2.06-.94-.94-2.06-.94 2.06-2.06.94zm-11 1L8.5 8.5l.94-2.06 2.06-.94-2.06-.94L8.5 2.5l-.94 2.06-2.06.94zm10 10l.94 2.06.94-2.06 2.06-.94-2.06-.94-.94-2.06-.94 2.06-2.06.94z\"/><path d=\"M17.41 7.96l-1.37-1.37c-.4-.4-.92-.59-1.43-.59-.52 0-1.04.2-1.43.59L10.3 9.45l-7.72 7.72c-.78.78-.78 2.05 0 2.83L4 21.41c.39.39.9.59 1.41.59.51 0 1.02-.2 1.41-.59l7.78-7.78 2.81-2.81c.8-.78.8-2.07 0-2.86zM5.41 20L4 18.59l7.72-7.72 1.47 1.35L5.41 20z\"/>\n",
              "  </svg>\n",
              "      </button>\n",
              "      \n",
              "  <style>\n",
              "    .colab-df-container {\n",
              "      display:flex;\n",
              "      flex-wrap:wrap;\n",
              "      gap: 12px;\n",
              "    }\n",
              "\n",
              "    .colab-df-convert {\n",
              "      background-color: #E8F0FE;\n",
              "      border: none;\n",
              "      border-radius: 50%;\n",
              "      cursor: pointer;\n",
              "      display: none;\n",
              "      fill: #1967D2;\n",
              "      height: 32px;\n",
              "      padding: 0 0 0 0;\n",
              "      width: 32px;\n",
              "    }\n",
              "\n",
              "    .colab-df-convert:hover {\n",
              "      background-color: #E2EBFA;\n",
              "      box-shadow: 0px 1px 2px rgba(60, 64, 67, 0.3), 0px 1px 3px 1px rgba(60, 64, 67, 0.15);\n",
              "      fill: #174EA6;\n",
              "    }\n",
              "\n",
              "    [theme=dark] .colab-df-convert {\n",
              "      background-color: #3B4455;\n",
              "      fill: #D2E3FC;\n",
              "    }\n",
              "\n",
              "    [theme=dark] .colab-df-convert:hover {\n",
              "      background-color: #434B5C;\n",
              "      box-shadow: 0px 1px 3px 1px rgba(0, 0, 0, 0.15);\n",
              "      filter: drop-shadow(0px 1px 2px rgba(0, 0, 0, 0.3));\n",
              "      fill: #FFFFFF;\n",
              "    }\n",
              "  </style>\n",
              "\n",
              "      <script>\n",
              "        const buttonEl =\n",
              "          document.querySelector('#df-6236e113-ab34-4708-96a1-1045e28d44ef button.colab-df-convert');\n",
              "        buttonEl.style.display =\n",
              "          google.colab.kernel.accessAllowed ? 'block' : 'none';\n",
              "\n",
              "        async function convertToInteractive(key) {\n",
              "          const element = document.querySelector('#df-6236e113-ab34-4708-96a1-1045e28d44ef');\n",
              "          const dataTable =\n",
              "            await google.colab.kernel.invokeFunction('convertToInteractive',\n",
              "                                                     [key], {});\n",
              "          if (!dataTable) return;\n",
              "\n",
              "          const docLinkHtml = 'Like what you see? Visit the ' +\n",
              "            '<a target=\"_blank\" href=https://colab.research.google.com/notebooks/data_table.ipynb>data table notebook</a>'\n",
              "            + ' to learn more about interactive tables.';\n",
              "          element.innerHTML = '';\n",
              "          dataTable['output_type'] = 'display_data';\n",
              "          await google.colab.output.renderOutput(dataTable, element);\n",
              "          const docLink = document.createElement('div');\n",
              "          docLink.innerHTML = docLinkHtml;\n",
              "          element.appendChild(docLink);\n",
              "        }\n",
              "      </script>\n",
              "    </div>\n",
              "  </div>\n",
              "  "
            ],
            "text/plain": [
              "           listing_id  date  available   price\n",
              "available                                     \n",
              "f                   0     0          0  459028\n",
              "t                   0     0          0       0"
            ]
          },
          "metadata": {},
          "execution_count": 6
        }
      ]
    },
    {
      "cell_type": "code",
      "source": [
        "df_cal_null=df_cal[df_cal['available']=='f']\n",
        "df_cal_null.head()"
      ],
      "metadata": {
        "colab": {
          "base_uri": "https://localhost:8080/",
          "height": 206
        },
        "id": "Fc_2GvzQdUNV",
        "outputId": "149f93e6-ccac-4d7b-e779-5ce6e5a2a8a8"
      },
      "execution_count": 7,
      "outputs": [
        {
          "output_type": "execute_result",
          "data": {
            "text/html": [
              "\n",
              "  <div id=\"df-4890620e-3537-4ef2-bbcf-786615fcca73\">\n",
              "    <div class=\"colab-df-container\">\n",
              "      <div>\n",
              "<style scoped>\n",
              "    .dataframe tbody tr th:only-of-type {\n",
              "        vertical-align: middle;\n",
              "    }\n",
              "\n",
              "    .dataframe tbody tr th {\n",
              "        vertical-align: top;\n",
              "    }\n",
              "\n",
              "    .dataframe thead th {\n",
              "        text-align: right;\n",
              "    }\n",
              "</style>\n",
              "<table border=\"1\" class=\"dataframe\">\n",
              "  <thead>\n",
              "    <tr style=\"text-align: right;\">\n",
              "      <th></th>\n",
              "      <th>listing_id</th>\n",
              "      <th>date</th>\n",
              "      <th>available</th>\n",
              "      <th>price</th>\n",
              "    </tr>\n",
              "  </thead>\n",
              "  <tbody>\n",
              "    <tr>\n",
              "      <th>2</th>\n",
              "      <td>241032</td>\n",
              "      <td>2016-01-06</td>\n",
              "      <td>f</td>\n",
              "      <td>NaN</td>\n",
              "    </tr>\n",
              "    <tr>\n",
              "      <th>3</th>\n",
              "      <td>241032</td>\n",
              "      <td>2016-01-07</td>\n",
              "      <td>f</td>\n",
              "      <td>NaN</td>\n",
              "    </tr>\n",
              "    <tr>\n",
              "      <th>4</th>\n",
              "      <td>241032</td>\n",
              "      <td>2016-01-08</td>\n",
              "      <td>f</td>\n",
              "      <td>NaN</td>\n",
              "    </tr>\n",
              "    <tr>\n",
              "      <th>5</th>\n",
              "      <td>241032</td>\n",
              "      <td>2016-01-09</td>\n",
              "      <td>f</td>\n",
              "      <td>NaN</td>\n",
              "    </tr>\n",
              "    <tr>\n",
              "      <th>6</th>\n",
              "      <td>241032</td>\n",
              "      <td>2016-01-10</td>\n",
              "      <td>f</td>\n",
              "      <td>NaN</td>\n",
              "    </tr>\n",
              "  </tbody>\n",
              "</table>\n",
              "</div>\n",
              "      <button class=\"colab-df-convert\" onclick=\"convertToInteractive('df-4890620e-3537-4ef2-bbcf-786615fcca73')\"\n",
              "              title=\"Convert this dataframe to an interactive table.\"\n",
              "              style=\"display:none;\">\n",
              "        \n",
              "  <svg xmlns=\"http://www.w3.org/2000/svg\" height=\"24px\"viewBox=\"0 0 24 24\"\n",
              "       width=\"24px\">\n",
              "    <path d=\"M0 0h24v24H0V0z\" fill=\"none\"/>\n",
              "    <path d=\"M18.56 5.44l.94 2.06.94-2.06 2.06-.94-2.06-.94-.94-2.06-.94 2.06-2.06.94zm-11 1L8.5 8.5l.94-2.06 2.06-.94-2.06-.94L8.5 2.5l-.94 2.06-2.06.94zm10 10l.94 2.06.94-2.06 2.06-.94-2.06-.94-.94-2.06-.94 2.06-2.06.94z\"/><path d=\"M17.41 7.96l-1.37-1.37c-.4-.4-.92-.59-1.43-.59-.52 0-1.04.2-1.43.59L10.3 9.45l-7.72 7.72c-.78.78-.78 2.05 0 2.83L4 21.41c.39.39.9.59 1.41.59.51 0 1.02-.2 1.41-.59l7.78-7.78 2.81-2.81c.8-.78.8-2.07 0-2.86zM5.41 20L4 18.59l7.72-7.72 1.47 1.35L5.41 20z\"/>\n",
              "  </svg>\n",
              "      </button>\n",
              "      \n",
              "  <style>\n",
              "    .colab-df-container {\n",
              "      display:flex;\n",
              "      flex-wrap:wrap;\n",
              "      gap: 12px;\n",
              "    }\n",
              "\n",
              "    .colab-df-convert {\n",
              "      background-color: #E8F0FE;\n",
              "      border: none;\n",
              "      border-radius: 50%;\n",
              "      cursor: pointer;\n",
              "      display: none;\n",
              "      fill: #1967D2;\n",
              "      height: 32px;\n",
              "      padding: 0 0 0 0;\n",
              "      width: 32px;\n",
              "    }\n",
              "\n",
              "    .colab-df-convert:hover {\n",
              "      background-color: #E2EBFA;\n",
              "      box-shadow: 0px 1px 2px rgba(60, 64, 67, 0.3), 0px 1px 3px 1px rgba(60, 64, 67, 0.15);\n",
              "      fill: #174EA6;\n",
              "    }\n",
              "\n",
              "    [theme=dark] .colab-df-convert {\n",
              "      background-color: #3B4455;\n",
              "      fill: #D2E3FC;\n",
              "    }\n",
              "\n",
              "    [theme=dark] .colab-df-convert:hover {\n",
              "      background-color: #434B5C;\n",
              "      box-shadow: 0px 1px 3px 1px rgba(0, 0, 0, 0.15);\n",
              "      filter: drop-shadow(0px 1px 2px rgba(0, 0, 0, 0.3));\n",
              "      fill: #FFFFFF;\n",
              "    }\n",
              "  </style>\n",
              "\n",
              "      <script>\n",
              "        const buttonEl =\n",
              "          document.querySelector('#df-4890620e-3537-4ef2-bbcf-786615fcca73 button.colab-df-convert');\n",
              "        buttonEl.style.display =\n",
              "          google.colab.kernel.accessAllowed ? 'block' : 'none';\n",
              "\n",
              "        async function convertToInteractive(key) {\n",
              "          const element = document.querySelector('#df-4890620e-3537-4ef2-bbcf-786615fcca73');\n",
              "          const dataTable =\n",
              "            await google.colab.kernel.invokeFunction('convertToInteractive',\n",
              "                                                     [key], {});\n",
              "          if (!dataTable) return;\n",
              "\n",
              "          const docLinkHtml = 'Like what you see? Visit the ' +\n",
              "            '<a target=\"_blank\" href=https://colab.research.google.com/notebooks/data_table.ipynb>data table notebook</a>'\n",
              "            + ' to learn more about interactive tables.';\n",
              "          element.innerHTML = '';\n",
              "          dataTable['output_type'] = 'display_data';\n",
              "          await google.colab.output.renderOutput(dataTable, element);\n",
              "          const docLink = document.createElement('div');\n",
              "          docLink.innerHTML = docLinkHtml;\n",
              "          element.appendChild(docLink);\n",
              "        }\n",
              "      </script>\n",
              "    </div>\n",
              "  </div>\n",
              "  "
            ],
            "text/plain": [
              "   listing_id        date available price\n",
              "2      241032  2016-01-06         f   NaN\n",
              "3      241032  2016-01-07         f   NaN\n",
              "4      241032  2016-01-08         f   NaN\n",
              "5      241032  2016-01-09         f   NaN\n",
              "6      241032  2016-01-10         f   NaN"
            ]
          },
          "metadata": {},
          "execution_count": 7
        }
      ]
    },
    {
      "cell_type": "markdown",
      "source": [
        "### **2.2 Listings**"
      ],
      "metadata": {
        "id": "C4b-APuziybr"
      }
    },
    {
      "cell_type": "markdown",
      "source": [
        "This dataset has information about the characteristics of the properties, such as the number of rooms, the neighborhood, number of bathrooms as well as certain characteristics of the host such as the response time, its acceptance rate among others"
      ],
      "metadata": {
        "id": "bKvrfcXwjZoX"
      }
    },
    {
      "cell_type": "code",
      "source": [
        "df_list.head()"
      ],
      "metadata": {
        "colab": {
          "base_uri": "https://localhost:8080/",
          "height": 0
        },
        "id": "w5LqLcFJT6Ta",
        "outputId": "2ff5e6c6-8ea7-4c36-d7ae-658ea62a0aa1"
      },
      "execution_count": 8,
      "outputs": [
        {
          "output_type": "execute_result",
          "data": {
            "text/html": [
              "\n",
              "  <div id=\"df-19efa739-5a1d-40f6-989a-69f3deb2449d\">\n",
              "    <div class=\"colab-df-container\">\n",
              "      <div>\n",
              "<style scoped>\n",
              "    .dataframe tbody tr th:only-of-type {\n",
              "        vertical-align: middle;\n",
              "    }\n",
              "\n",
              "    .dataframe tbody tr th {\n",
              "        vertical-align: top;\n",
              "    }\n",
              "\n",
              "    .dataframe thead th {\n",
              "        text-align: right;\n",
              "    }\n",
              "</style>\n",
              "<table border=\"1\" class=\"dataframe\">\n",
              "  <thead>\n",
              "    <tr style=\"text-align: right;\">\n",
              "      <th></th>\n",
              "      <th>id</th>\n",
              "      <th>listing_url</th>\n",
              "      <th>scrape_id</th>\n",
              "      <th>last_scraped</th>\n",
              "      <th>name</th>\n",
              "      <th>summary</th>\n",
              "      <th>space</th>\n",
              "      <th>description</th>\n",
              "      <th>experiences_offered</th>\n",
              "      <th>neighborhood_overview</th>\n",
              "      <th>notes</th>\n",
              "      <th>transit</th>\n",
              "      <th>thumbnail_url</th>\n",
              "      <th>medium_url</th>\n",
              "      <th>picture_url</th>\n",
              "      <th>xl_picture_url</th>\n",
              "      <th>host_id</th>\n",
              "      <th>host_url</th>\n",
              "      <th>host_name</th>\n",
              "      <th>host_since</th>\n",
              "      <th>host_location</th>\n",
              "      <th>host_about</th>\n",
              "      <th>host_response_time</th>\n",
              "      <th>host_response_rate</th>\n",
              "      <th>host_acceptance_rate</th>\n",
              "      <th>host_is_superhost</th>\n",
              "      <th>host_thumbnail_url</th>\n",
              "      <th>host_picture_url</th>\n",
              "      <th>host_neighbourhood</th>\n",
              "      <th>host_listings_count</th>\n",
              "      <th>host_total_listings_count</th>\n",
              "      <th>host_verifications</th>\n",
              "      <th>host_has_profile_pic</th>\n",
              "      <th>host_identity_verified</th>\n",
              "      <th>street</th>\n",
              "      <th>neighbourhood</th>\n",
              "      <th>neighbourhood_cleansed</th>\n",
              "      <th>neighbourhood_group_cleansed</th>\n",
              "      <th>city</th>\n",
              "      <th>state</th>\n",
              "      <th>...</th>\n",
              "      <th>bedrooms</th>\n",
              "      <th>beds</th>\n",
              "      <th>bed_type</th>\n",
              "      <th>amenities</th>\n",
              "      <th>square_feet</th>\n",
              "      <th>price</th>\n",
              "      <th>weekly_price</th>\n",
              "      <th>monthly_price</th>\n",
              "      <th>security_deposit</th>\n",
              "      <th>cleaning_fee</th>\n",
              "      <th>guests_included</th>\n",
              "      <th>extra_people</th>\n",
              "      <th>minimum_nights</th>\n",
              "      <th>maximum_nights</th>\n",
              "      <th>calendar_updated</th>\n",
              "      <th>has_availability</th>\n",
              "      <th>availability_30</th>\n",
              "      <th>availability_60</th>\n",
              "      <th>availability_90</th>\n",
              "      <th>availability_365</th>\n",
              "      <th>calendar_last_scraped</th>\n",
              "      <th>number_of_reviews</th>\n",
              "      <th>first_review</th>\n",
              "      <th>last_review</th>\n",
              "      <th>review_scores_rating</th>\n",
              "      <th>review_scores_accuracy</th>\n",
              "      <th>review_scores_cleanliness</th>\n",
              "      <th>review_scores_checkin</th>\n",
              "      <th>review_scores_communication</th>\n",
              "      <th>review_scores_location</th>\n",
              "      <th>review_scores_value</th>\n",
              "      <th>requires_license</th>\n",
              "      <th>license</th>\n",
              "      <th>jurisdiction_names</th>\n",
              "      <th>instant_bookable</th>\n",
              "      <th>cancellation_policy</th>\n",
              "      <th>require_guest_profile_picture</th>\n",
              "      <th>require_guest_phone_verification</th>\n",
              "      <th>calculated_host_listings_count</th>\n",
              "      <th>reviews_per_month</th>\n",
              "    </tr>\n",
              "  </thead>\n",
              "  <tbody>\n",
              "    <tr>\n",
              "      <th>0</th>\n",
              "      <td>241032</td>\n",
              "      <td>https://www.airbnb.com/rooms/241032</td>\n",
              "      <td>20160104002432</td>\n",
              "      <td>2016-01-04</td>\n",
              "      <td>Stylish Queen Anne Apartment</td>\n",
              "      <td>NaN</td>\n",
              "      <td>Make your self at home in this charming one-be...</td>\n",
              "      <td>Make your self at home in this charming one-be...</td>\n",
              "      <td>none</td>\n",
              "      <td>NaN</td>\n",
              "      <td>NaN</td>\n",
              "      <td>NaN</td>\n",
              "      <td>NaN</td>\n",
              "      <td>NaN</td>\n",
              "      <td>https://a1.muscache.com/ac/pictures/67560560/c...</td>\n",
              "      <td>NaN</td>\n",
              "      <td>956883</td>\n",
              "      <td>https://www.airbnb.com/users/show/956883</td>\n",
              "      <td>Maija</td>\n",
              "      <td>2011-08-11</td>\n",
              "      <td>Seattle, Washington, United States</td>\n",
              "      <td>I am an artist, interior designer, and run a s...</td>\n",
              "      <td>within a few hours</td>\n",
              "      <td>96%</td>\n",
              "      <td>100%</td>\n",
              "      <td>f</td>\n",
              "      <td>https://a0.muscache.com/ac/users/956883/profil...</td>\n",
              "      <td>https://a0.muscache.com/ac/users/956883/profil...</td>\n",
              "      <td>Queen Anne</td>\n",
              "      <td>3.0</td>\n",
              "      <td>3.0</td>\n",
              "      <td>['email', 'phone', 'reviews', 'kba']</td>\n",
              "      <td>t</td>\n",
              "      <td>t</td>\n",
              "      <td>Gilman Dr W, Seattle, WA 98119, United States</td>\n",
              "      <td>Queen Anne</td>\n",
              "      <td>West Queen Anne</td>\n",
              "      <td>Queen Anne</td>\n",
              "      <td>Seattle</td>\n",
              "      <td>WA</td>\n",
              "      <td>...</td>\n",
              "      <td>1.0</td>\n",
              "      <td>1.0</td>\n",
              "      <td>Real Bed</td>\n",
              "      <td>{TV,\"Cable TV\",Internet,\"Wireless Internet\",\"A...</td>\n",
              "      <td>NaN</td>\n",
              "      <td>$85.00</td>\n",
              "      <td>NaN</td>\n",
              "      <td>NaN</td>\n",
              "      <td>NaN</td>\n",
              "      <td>NaN</td>\n",
              "      <td>2</td>\n",
              "      <td>$5.00</td>\n",
              "      <td>1</td>\n",
              "      <td>365</td>\n",
              "      <td>4 weeks ago</td>\n",
              "      <td>t</td>\n",
              "      <td>14</td>\n",
              "      <td>41</td>\n",
              "      <td>71</td>\n",
              "      <td>346</td>\n",
              "      <td>2016-01-04</td>\n",
              "      <td>207</td>\n",
              "      <td>2011-11-01</td>\n",
              "      <td>2016-01-02</td>\n",
              "      <td>95.0</td>\n",
              "      <td>10.0</td>\n",
              "      <td>10.0</td>\n",
              "      <td>10.0</td>\n",
              "      <td>10.0</td>\n",
              "      <td>9.0</td>\n",
              "      <td>10.0</td>\n",
              "      <td>f</td>\n",
              "      <td>NaN</td>\n",
              "      <td>WASHINGTON</td>\n",
              "      <td>f</td>\n",
              "      <td>moderate</td>\n",
              "      <td>f</td>\n",
              "      <td>f</td>\n",
              "      <td>2</td>\n",
              "      <td>4.07</td>\n",
              "    </tr>\n",
              "    <tr>\n",
              "      <th>1</th>\n",
              "      <td>953595</td>\n",
              "      <td>https://www.airbnb.com/rooms/953595</td>\n",
              "      <td>20160104002432</td>\n",
              "      <td>2016-01-04</td>\n",
              "      <td>Bright &amp; Airy Queen Anne Apartment</td>\n",
              "      <td>Chemically sensitive? We've removed the irrita...</td>\n",
              "      <td>Beautiful, hypoallergenic apartment in an extr...</td>\n",
              "      <td>Chemically sensitive? We've removed the irrita...</td>\n",
              "      <td>none</td>\n",
              "      <td>Queen Anne is a wonderful, truly functional vi...</td>\n",
              "      <td>What's up with the free pillows?  Our home was...</td>\n",
              "      <td>Convenient bus stops are just down the block, ...</td>\n",
              "      <td>https://a0.muscache.com/ac/pictures/14409893/f...</td>\n",
              "      <td>https://a0.muscache.com/im/pictures/14409893/f...</td>\n",
              "      <td>https://a0.muscache.com/ac/pictures/14409893/f...</td>\n",
              "      <td>https://a0.muscache.com/ac/pictures/14409893/f...</td>\n",
              "      <td>5177328</td>\n",
              "      <td>https://www.airbnb.com/users/show/5177328</td>\n",
              "      <td>Andrea</td>\n",
              "      <td>2013-02-21</td>\n",
              "      <td>Seattle, Washington, United States</td>\n",
              "      <td>Living east coast/left coast/overseas.  Time i...</td>\n",
              "      <td>within an hour</td>\n",
              "      <td>98%</td>\n",
              "      <td>100%</td>\n",
              "      <td>t</td>\n",
              "      <td>https://a0.muscache.com/ac/users/5177328/profi...</td>\n",
              "      <td>https://a0.muscache.com/ac/users/5177328/profi...</td>\n",
              "      <td>Queen Anne</td>\n",
              "      <td>6.0</td>\n",
              "      <td>6.0</td>\n",
              "      <td>['email', 'phone', 'facebook', 'linkedin', 're...</td>\n",
              "      <td>t</td>\n",
              "      <td>t</td>\n",
              "      <td>7th Avenue West, Seattle, WA 98119, United States</td>\n",
              "      <td>Queen Anne</td>\n",
              "      <td>West Queen Anne</td>\n",
              "      <td>Queen Anne</td>\n",
              "      <td>Seattle</td>\n",
              "      <td>WA</td>\n",
              "      <td>...</td>\n",
              "      <td>1.0</td>\n",
              "      <td>1.0</td>\n",
              "      <td>Real Bed</td>\n",
              "      <td>{TV,Internet,\"Wireless Internet\",Kitchen,\"Free...</td>\n",
              "      <td>NaN</td>\n",
              "      <td>$150.00</td>\n",
              "      <td>$1,000.00</td>\n",
              "      <td>$3,000.00</td>\n",
              "      <td>$100.00</td>\n",
              "      <td>$40.00</td>\n",
              "      <td>1</td>\n",
              "      <td>$0.00</td>\n",
              "      <td>2</td>\n",
              "      <td>90</td>\n",
              "      <td>today</td>\n",
              "      <td>t</td>\n",
              "      <td>13</td>\n",
              "      <td>13</td>\n",
              "      <td>16</td>\n",
              "      <td>291</td>\n",
              "      <td>2016-01-04</td>\n",
              "      <td>43</td>\n",
              "      <td>2013-08-19</td>\n",
              "      <td>2015-12-29</td>\n",
              "      <td>96.0</td>\n",
              "      <td>10.0</td>\n",
              "      <td>10.0</td>\n",
              "      <td>10.0</td>\n",
              "      <td>10.0</td>\n",
              "      <td>10.0</td>\n",
              "      <td>10.0</td>\n",
              "      <td>f</td>\n",
              "      <td>NaN</td>\n",
              "      <td>WASHINGTON</td>\n",
              "      <td>f</td>\n",
              "      <td>strict</td>\n",
              "      <td>t</td>\n",
              "      <td>t</td>\n",
              "      <td>6</td>\n",
              "      <td>1.48</td>\n",
              "    </tr>\n",
              "    <tr>\n",
              "      <th>2</th>\n",
              "      <td>3308979</td>\n",
              "      <td>https://www.airbnb.com/rooms/3308979</td>\n",
              "      <td>20160104002432</td>\n",
              "      <td>2016-01-04</td>\n",
              "      <td>New Modern House-Amazing water view</td>\n",
              "      <td>New modern house built in 2013.  Spectacular s...</td>\n",
              "      <td>Our house is modern, light and fresh with a wa...</td>\n",
              "      <td>New modern house built in 2013.  Spectacular s...</td>\n",
              "      <td>none</td>\n",
              "      <td>Upper Queen Anne is a charming neighborhood fu...</td>\n",
              "      <td>Our house is located just 5 short blocks to To...</td>\n",
              "      <td>A bus stop is just 2 blocks away.   Easy bus a...</td>\n",
              "      <td>NaN</td>\n",
              "      <td>NaN</td>\n",
              "      <td>https://a2.muscache.com/ac/pictures/b4324e0f-a...</td>\n",
              "      <td>NaN</td>\n",
              "      <td>16708587</td>\n",
              "      <td>https://www.airbnb.com/users/show/16708587</td>\n",
              "      <td>Jill</td>\n",
              "      <td>2014-06-12</td>\n",
              "      <td>Seattle, Washington, United States</td>\n",
              "      <td>i love living in Seattle.  i grew up in the mi...</td>\n",
              "      <td>within a few hours</td>\n",
              "      <td>67%</td>\n",
              "      <td>100%</td>\n",
              "      <td>f</td>\n",
              "      <td>https://a1.muscache.com/ac/users/16708587/prof...</td>\n",
              "      <td>https://a1.muscache.com/ac/users/16708587/prof...</td>\n",
              "      <td>Queen Anne</td>\n",
              "      <td>2.0</td>\n",
              "      <td>2.0</td>\n",
              "      <td>['email', 'phone', 'google', 'reviews', 'jumio']</td>\n",
              "      <td>t</td>\n",
              "      <td>t</td>\n",
              "      <td>West Lee Street, Seattle, WA 98119, United States</td>\n",
              "      <td>Queen Anne</td>\n",
              "      <td>West Queen Anne</td>\n",
              "      <td>Queen Anne</td>\n",
              "      <td>Seattle</td>\n",
              "      <td>WA</td>\n",
              "      <td>...</td>\n",
              "      <td>5.0</td>\n",
              "      <td>7.0</td>\n",
              "      <td>Real Bed</td>\n",
              "      <td>{TV,\"Cable TV\",Internet,\"Wireless Internet\",\"A...</td>\n",
              "      <td>NaN</td>\n",
              "      <td>$975.00</td>\n",
              "      <td>NaN</td>\n",
              "      <td>NaN</td>\n",
              "      <td>$1,000.00</td>\n",
              "      <td>$300.00</td>\n",
              "      <td>10</td>\n",
              "      <td>$25.00</td>\n",
              "      <td>4</td>\n",
              "      <td>30</td>\n",
              "      <td>5 weeks ago</td>\n",
              "      <td>t</td>\n",
              "      <td>1</td>\n",
              "      <td>6</td>\n",
              "      <td>17</td>\n",
              "      <td>220</td>\n",
              "      <td>2016-01-04</td>\n",
              "      <td>20</td>\n",
              "      <td>2014-07-30</td>\n",
              "      <td>2015-09-03</td>\n",
              "      <td>97.0</td>\n",
              "      <td>10.0</td>\n",
              "      <td>10.0</td>\n",
              "      <td>10.0</td>\n",
              "      <td>10.0</td>\n",
              "      <td>10.0</td>\n",
              "      <td>10.0</td>\n",
              "      <td>f</td>\n",
              "      <td>NaN</td>\n",
              "      <td>WASHINGTON</td>\n",
              "      <td>f</td>\n",
              "      <td>strict</td>\n",
              "      <td>f</td>\n",
              "      <td>f</td>\n",
              "      <td>2</td>\n",
              "      <td>1.15</td>\n",
              "    </tr>\n",
              "    <tr>\n",
              "      <th>3</th>\n",
              "      <td>7421966</td>\n",
              "      <td>https://www.airbnb.com/rooms/7421966</td>\n",
              "      <td>20160104002432</td>\n",
              "      <td>2016-01-04</td>\n",
              "      <td>Queen Anne Chateau</td>\n",
              "      <td>A charming apartment that sits atop Queen Anne...</td>\n",
              "      <td>NaN</td>\n",
              "      <td>A charming apartment that sits atop Queen Anne...</td>\n",
              "      <td>none</td>\n",
              "      <td>NaN</td>\n",
              "      <td>NaN</td>\n",
              "      <td>NaN</td>\n",
              "      <td>NaN</td>\n",
              "      <td>NaN</td>\n",
              "      <td>https://a0.muscache.com/ac/pictures/94146944/6...</td>\n",
              "      <td>NaN</td>\n",
              "      <td>9851441</td>\n",
              "      <td>https://www.airbnb.com/users/show/9851441</td>\n",
              "      <td>Emily</td>\n",
              "      <td>2013-11-06</td>\n",
              "      <td>Seattle, Washington, United States</td>\n",
              "      <td>NaN</td>\n",
              "      <td>NaN</td>\n",
              "      <td>NaN</td>\n",
              "      <td>NaN</td>\n",
              "      <td>f</td>\n",
              "      <td>https://a2.muscache.com/ac/users/9851441/profi...</td>\n",
              "      <td>https://a2.muscache.com/ac/users/9851441/profi...</td>\n",
              "      <td>Queen Anne</td>\n",
              "      <td>1.0</td>\n",
              "      <td>1.0</td>\n",
              "      <td>['email', 'phone', 'facebook', 'reviews', 'jum...</td>\n",
              "      <td>t</td>\n",
              "      <td>t</td>\n",
              "      <td>8th Avenue West, Seattle, WA 98119, United States</td>\n",
              "      <td>Queen Anne</td>\n",
              "      <td>West Queen Anne</td>\n",
              "      <td>Queen Anne</td>\n",
              "      <td>Seattle</td>\n",
              "      <td>WA</td>\n",
              "      <td>...</td>\n",
              "      <td>0.0</td>\n",
              "      <td>2.0</td>\n",
              "      <td>Real Bed</td>\n",
              "      <td>{Internet,\"Wireless Internet\",Kitchen,\"Indoor ...</td>\n",
              "      <td>NaN</td>\n",
              "      <td>$100.00</td>\n",
              "      <td>$650.00</td>\n",
              "      <td>$2,300.00</td>\n",
              "      <td>NaN</td>\n",
              "      <td>NaN</td>\n",
              "      <td>1</td>\n",
              "      <td>$0.00</td>\n",
              "      <td>1</td>\n",
              "      <td>1125</td>\n",
              "      <td>6 months ago</td>\n",
              "      <td>t</td>\n",
              "      <td>0</td>\n",
              "      <td>0</td>\n",
              "      <td>0</td>\n",
              "      <td>143</td>\n",
              "      <td>2016-01-04</td>\n",
              "      <td>0</td>\n",
              "      <td>NaN</td>\n",
              "      <td>NaN</td>\n",
              "      <td>NaN</td>\n",
              "      <td>NaN</td>\n",
              "      <td>NaN</td>\n",
              "      <td>NaN</td>\n",
              "      <td>NaN</td>\n",
              "      <td>NaN</td>\n",
              "      <td>NaN</td>\n",
              "      <td>f</td>\n",
              "      <td>NaN</td>\n",
              "      <td>WASHINGTON</td>\n",
              "      <td>f</td>\n",
              "      <td>flexible</td>\n",
              "      <td>f</td>\n",
              "      <td>f</td>\n",
              "      <td>1</td>\n",
              "      <td>NaN</td>\n",
              "    </tr>\n",
              "    <tr>\n",
              "      <th>4</th>\n",
              "      <td>278830</td>\n",
              "      <td>https://www.airbnb.com/rooms/278830</td>\n",
              "      <td>20160104002432</td>\n",
              "      <td>2016-01-04</td>\n",
              "      <td>Charming craftsman 3 bdm house</td>\n",
              "      <td>Cozy family craftman house in beautiful neighb...</td>\n",
              "      <td>Cozy family craftman house in beautiful neighb...</td>\n",
              "      <td>Cozy family craftman house in beautiful neighb...</td>\n",
              "      <td>none</td>\n",
              "      <td>We are in the beautiful neighborhood of Queen ...</td>\n",
              "      <td>Belltown</td>\n",
              "      <td>The nearest public transit bus (D Line) is 2 b...</td>\n",
              "      <td>NaN</td>\n",
              "      <td>NaN</td>\n",
              "      <td>https://a1.muscache.com/ac/pictures/6120468/b0...</td>\n",
              "      <td>NaN</td>\n",
              "      <td>1452570</td>\n",
              "      <td>https://www.airbnb.com/users/show/1452570</td>\n",
              "      <td>Emily</td>\n",
              "      <td>2011-11-29</td>\n",
              "      <td>Seattle, Washington, United States</td>\n",
              "      <td>Hi, I live in Seattle, Washington but I'm orig...</td>\n",
              "      <td>within an hour</td>\n",
              "      <td>100%</td>\n",
              "      <td>NaN</td>\n",
              "      <td>f</td>\n",
              "      <td>https://a0.muscache.com/ac/users/1452570/profi...</td>\n",
              "      <td>https://a0.muscache.com/ac/users/1452570/profi...</td>\n",
              "      <td>Queen Anne</td>\n",
              "      <td>2.0</td>\n",
              "      <td>2.0</td>\n",
              "      <td>['email', 'phone', 'facebook', 'reviews', 'kba']</td>\n",
              "      <td>t</td>\n",
              "      <td>t</td>\n",
              "      <td>14th Ave W, Seattle, WA 98119, United States</td>\n",
              "      <td>Queen Anne</td>\n",
              "      <td>West Queen Anne</td>\n",
              "      <td>Queen Anne</td>\n",
              "      <td>Seattle</td>\n",
              "      <td>WA</td>\n",
              "      <td>...</td>\n",
              "      <td>3.0</td>\n",
              "      <td>3.0</td>\n",
              "      <td>Real Bed</td>\n",
              "      <td>{TV,\"Cable TV\",Internet,\"Wireless Internet\",Ki...</td>\n",
              "      <td>NaN</td>\n",
              "      <td>$450.00</td>\n",
              "      <td>NaN</td>\n",
              "      <td>NaN</td>\n",
              "      <td>$700.00</td>\n",
              "      <td>$125.00</td>\n",
              "      <td>6</td>\n",
              "      <td>$15.00</td>\n",
              "      <td>1</td>\n",
              "      <td>1125</td>\n",
              "      <td>7 weeks ago</td>\n",
              "      <td>t</td>\n",
              "      <td>30</td>\n",
              "      <td>60</td>\n",
              "      <td>90</td>\n",
              "      <td>365</td>\n",
              "      <td>2016-01-04</td>\n",
              "      <td>38</td>\n",
              "      <td>2012-07-10</td>\n",
              "      <td>2015-10-24</td>\n",
              "      <td>92.0</td>\n",
              "      <td>9.0</td>\n",
              "      <td>9.0</td>\n",
              "      <td>10.0</td>\n",
              "      <td>10.0</td>\n",
              "      <td>9.0</td>\n",
              "      <td>9.0</td>\n",
              "      <td>f</td>\n",
              "      <td>NaN</td>\n",
              "      <td>WASHINGTON</td>\n",
              "      <td>f</td>\n",
              "      <td>strict</td>\n",
              "      <td>f</td>\n",
              "      <td>f</td>\n",
              "      <td>1</td>\n",
              "      <td>0.89</td>\n",
              "    </tr>\n",
              "  </tbody>\n",
              "</table>\n",
              "<p>5 rows × 92 columns</p>\n",
              "</div>\n",
              "      <button class=\"colab-df-convert\" onclick=\"convertToInteractive('df-19efa739-5a1d-40f6-989a-69f3deb2449d')\"\n",
              "              title=\"Convert this dataframe to an interactive table.\"\n",
              "              style=\"display:none;\">\n",
              "        \n",
              "  <svg xmlns=\"http://www.w3.org/2000/svg\" height=\"24px\"viewBox=\"0 0 24 24\"\n",
              "       width=\"24px\">\n",
              "    <path d=\"M0 0h24v24H0V0z\" fill=\"none\"/>\n",
              "    <path d=\"M18.56 5.44l.94 2.06.94-2.06 2.06-.94-2.06-.94-.94-2.06-.94 2.06-2.06.94zm-11 1L8.5 8.5l.94-2.06 2.06-.94-2.06-.94L8.5 2.5l-.94 2.06-2.06.94zm10 10l.94 2.06.94-2.06 2.06-.94-2.06-.94-.94-2.06-.94 2.06-2.06.94z\"/><path d=\"M17.41 7.96l-1.37-1.37c-.4-.4-.92-.59-1.43-.59-.52 0-1.04.2-1.43.59L10.3 9.45l-7.72 7.72c-.78.78-.78 2.05 0 2.83L4 21.41c.39.39.9.59 1.41.59.51 0 1.02-.2 1.41-.59l7.78-7.78 2.81-2.81c.8-.78.8-2.07 0-2.86zM5.41 20L4 18.59l7.72-7.72 1.47 1.35L5.41 20z\"/>\n",
              "  </svg>\n",
              "      </button>\n",
              "      \n",
              "  <style>\n",
              "    .colab-df-container {\n",
              "      display:flex;\n",
              "      flex-wrap:wrap;\n",
              "      gap: 12px;\n",
              "    }\n",
              "\n",
              "    .colab-df-convert {\n",
              "      background-color: #E8F0FE;\n",
              "      border: none;\n",
              "      border-radius: 50%;\n",
              "      cursor: pointer;\n",
              "      display: none;\n",
              "      fill: #1967D2;\n",
              "      height: 32px;\n",
              "      padding: 0 0 0 0;\n",
              "      width: 32px;\n",
              "    }\n",
              "\n",
              "    .colab-df-convert:hover {\n",
              "      background-color: #E2EBFA;\n",
              "      box-shadow: 0px 1px 2px rgba(60, 64, 67, 0.3), 0px 1px 3px 1px rgba(60, 64, 67, 0.15);\n",
              "      fill: #174EA6;\n",
              "    }\n",
              "\n",
              "    [theme=dark] .colab-df-convert {\n",
              "      background-color: #3B4455;\n",
              "      fill: #D2E3FC;\n",
              "    }\n",
              "\n",
              "    [theme=dark] .colab-df-convert:hover {\n",
              "      background-color: #434B5C;\n",
              "      box-shadow: 0px 1px 3px 1px rgba(0, 0, 0, 0.15);\n",
              "      filter: drop-shadow(0px 1px 2px rgba(0, 0, 0, 0.3));\n",
              "      fill: #FFFFFF;\n",
              "    }\n",
              "  </style>\n",
              "\n",
              "      <script>\n",
              "        const buttonEl =\n",
              "          document.querySelector('#df-19efa739-5a1d-40f6-989a-69f3deb2449d button.colab-df-convert');\n",
              "        buttonEl.style.display =\n",
              "          google.colab.kernel.accessAllowed ? 'block' : 'none';\n",
              "\n",
              "        async function convertToInteractive(key) {\n",
              "          const element = document.querySelector('#df-19efa739-5a1d-40f6-989a-69f3deb2449d');\n",
              "          const dataTable =\n",
              "            await google.colab.kernel.invokeFunction('convertToInteractive',\n",
              "                                                     [key], {});\n",
              "          if (!dataTable) return;\n",
              "\n",
              "          const docLinkHtml = 'Like what you see? Visit the ' +\n",
              "            '<a target=\"_blank\" href=https://colab.research.google.com/notebooks/data_table.ipynb>data table notebook</a>'\n",
              "            + ' to learn more about interactive tables.';\n",
              "          element.innerHTML = '';\n",
              "          dataTable['output_type'] = 'display_data';\n",
              "          await google.colab.output.renderOutput(dataTable, element);\n",
              "          const docLink = document.createElement('div');\n",
              "          docLink.innerHTML = docLinkHtml;\n",
              "          element.appendChild(docLink);\n",
              "        }\n",
              "      </script>\n",
              "    </div>\n",
              "  </div>\n",
              "  "
            ],
            "text/plain": [
              "        id  ... reviews_per_month\n",
              "0   241032  ...              4.07\n",
              "1   953595  ...              1.48\n",
              "2  3308979  ...              1.15\n",
              "3  7421966  ...               NaN\n",
              "4   278830  ...              0.89\n",
              "\n",
              "[5 rows x 92 columns]"
            ]
          },
          "metadata": {},
          "execution_count": 8
        }
      ]
    },
    {
      "cell_type": "code",
      "source": [
        "df_list.info()"
      ],
      "metadata": {
        "colab": {
          "base_uri": "https://localhost:8080/"
        },
        "id": "a9IknO70jP-P",
        "outputId": "3b45b12c-fe23-47d5-b160-0c5e41c4431b"
      },
      "execution_count": 9,
      "outputs": [
        {
          "output_type": "stream",
          "name": "stdout",
          "text": [
            "<class 'pandas.core.frame.DataFrame'>\n",
            "RangeIndex: 3818 entries, 0 to 3817\n",
            "Data columns (total 92 columns):\n",
            " #   Column                            Non-Null Count  Dtype  \n",
            "---  ------                            --------------  -----  \n",
            " 0   id                                3818 non-null   int64  \n",
            " 1   listing_url                       3818 non-null   object \n",
            " 2   scrape_id                         3818 non-null   int64  \n",
            " 3   last_scraped                      3818 non-null   object \n",
            " 4   name                              3818 non-null   object \n",
            " 5   summary                           3641 non-null   object \n",
            " 6   space                             3249 non-null   object \n",
            " 7   description                       3818 non-null   object \n",
            " 8   experiences_offered               3818 non-null   object \n",
            " 9   neighborhood_overview             2786 non-null   object \n",
            " 10  notes                             2212 non-null   object \n",
            " 11  transit                           2884 non-null   object \n",
            " 12  thumbnail_url                     3498 non-null   object \n",
            " 13  medium_url                        3498 non-null   object \n",
            " 14  picture_url                       3818 non-null   object \n",
            " 15  xl_picture_url                    3498 non-null   object \n",
            " 16  host_id                           3818 non-null   int64  \n",
            " 17  host_url                          3818 non-null   object \n",
            " 18  host_name                         3816 non-null   object \n",
            " 19  host_since                        3816 non-null   object \n",
            " 20  host_location                     3810 non-null   object \n",
            " 21  host_about                        2959 non-null   object \n",
            " 22  host_response_time                3295 non-null   object \n",
            " 23  host_response_rate                3295 non-null   object \n",
            " 24  host_acceptance_rate              3045 non-null   object \n",
            " 25  host_is_superhost                 3816 non-null   object \n",
            " 26  host_thumbnail_url                3816 non-null   object \n",
            " 27  host_picture_url                  3816 non-null   object \n",
            " 28  host_neighbourhood                3518 non-null   object \n",
            " 29  host_listings_count               3816 non-null   float64\n",
            " 30  host_total_listings_count         3816 non-null   float64\n",
            " 31  host_verifications                3818 non-null   object \n",
            " 32  host_has_profile_pic              3816 non-null   object \n",
            " 33  host_identity_verified            3816 non-null   object \n",
            " 34  street                            3818 non-null   object \n",
            " 35  neighbourhood                     3402 non-null   object \n",
            " 36  neighbourhood_cleansed            3818 non-null   object \n",
            " 37  neighbourhood_group_cleansed      3818 non-null   object \n",
            " 38  city                              3818 non-null   object \n",
            " 39  state                             3818 non-null   object \n",
            " 40  zipcode                           3811 non-null   object \n",
            " 41  market                            3818 non-null   object \n",
            " 42  smart_location                    3818 non-null   object \n",
            " 43  country_code                      3818 non-null   object \n",
            " 44  country                           3818 non-null   object \n",
            " 45  latitude                          3818 non-null   float64\n",
            " 46  longitude                         3818 non-null   float64\n",
            " 47  is_location_exact                 3818 non-null   object \n",
            " 48  property_type                     3817 non-null   object \n",
            " 49  room_type                         3818 non-null   object \n",
            " 50  accommodates                      3818 non-null   int64  \n",
            " 51  bathrooms                         3802 non-null   float64\n",
            " 52  bedrooms                          3812 non-null   float64\n",
            " 53  beds                              3817 non-null   float64\n",
            " 54  bed_type                          3818 non-null   object \n",
            " 55  amenities                         3818 non-null   object \n",
            " 56  square_feet                       97 non-null     float64\n",
            " 57  price                             3818 non-null   object \n",
            " 58  weekly_price                      2009 non-null   object \n",
            " 59  monthly_price                     1517 non-null   object \n",
            " 60  security_deposit                  1866 non-null   object \n",
            " 61  cleaning_fee                      2788 non-null   object \n",
            " 62  guests_included                   3818 non-null   int64  \n",
            " 63  extra_people                      3818 non-null   object \n",
            " 64  minimum_nights                    3818 non-null   int64  \n",
            " 65  maximum_nights                    3818 non-null   int64  \n",
            " 66  calendar_updated                  3818 non-null   object \n",
            " 67  has_availability                  3818 non-null   object \n",
            " 68  availability_30                   3818 non-null   int64  \n",
            " 69  availability_60                   3818 non-null   int64  \n",
            " 70  availability_90                   3818 non-null   int64  \n",
            " 71  availability_365                  3818 non-null   int64  \n",
            " 72  calendar_last_scraped             3818 non-null   object \n",
            " 73  number_of_reviews                 3818 non-null   int64  \n",
            " 74  first_review                      3191 non-null   object \n",
            " 75  last_review                       3191 non-null   object \n",
            " 76  review_scores_rating              3171 non-null   float64\n",
            " 77  review_scores_accuracy            3160 non-null   float64\n",
            " 78  review_scores_cleanliness         3165 non-null   float64\n",
            " 79  review_scores_checkin             3160 non-null   float64\n",
            " 80  review_scores_communication       3167 non-null   float64\n",
            " 81  review_scores_location            3163 non-null   float64\n",
            " 82  review_scores_value               3162 non-null   float64\n",
            " 83  requires_license                  3818 non-null   object \n",
            " 84  license                           0 non-null      float64\n",
            " 85  jurisdiction_names                3818 non-null   object \n",
            " 86  instant_bookable                  3818 non-null   object \n",
            " 87  cancellation_policy               3818 non-null   object \n",
            " 88  require_guest_profile_picture     3818 non-null   object \n",
            " 89  require_guest_phone_verification  3818 non-null   object \n",
            " 90  calculated_host_listings_count    3818 non-null   int64  \n",
            " 91  reviews_per_month                 3191 non-null   float64\n",
            "dtypes: float64(17), int64(13), object(62)\n",
            "memory usage: 2.7+ MB\n"
          ]
        }
      ]
    },
    {
      "cell_type": "markdown",
      "source": [
        "There are 92 variables in this dataset and some of them has null values, we check that there are only one row for each property but there are more than one property for each host."
      ],
      "metadata": {
        "id": "_VsqRUEmkpUn"
      }
    },
    {
      "cell_type": "code",
      "source": [
        "# Check if there are unique Ids\n",
        "df_list.id.nunique()"
      ],
      "metadata": {
        "colab": {
          "base_uri": "https://localhost:8080/"
        },
        "id": "z30DGX5hlLSB",
        "outputId": "77e6a91f-8182-48bd-8944-6aa141670a0a"
      },
      "execution_count": 10,
      "outputs": [
        {
          "output_type": "execute_result",
          "data": {
            "text/plain": [
              "3818"
            ]
          },
          "metadata": {},
          "execution_count": 10
        }
      ]
    },
    {
      "cell_type": "code",
      "source": [
        "# Check number of host ids\n",
        "df_list.host_id.nunique()"
      ],
      "metadata": {
        "colab": {
          "base_uri": "https://localhost:8080/"
        },
        "id": "pR8kj-KVknO1",
        "outputId": "a96f1b77-3767-4524-9aa2-9c29e0983f25"
      },
      "execution_count": 11,
      "outputs": [
        {
          "output_type": "execute_result",
          "data": {
            "text/plain": [
              "2751"
            ]
          },
          "metadata": {},
          "execution_count": 11
        }
      ]
    },
    {
      "cell_type": "markdown",
      "source": [
        "The 85% of the host are located in seattle, but there a lot of places so it willl be dificult to work with this variable as a dummy one."
      ],
      "metadata": {
        "id": "MIasUJ85mcX9"
      }
    },
    {
      "cell_type": "code",
      "source": [
        "# Check host locations\n",
        "\n",
        "df_list['host_location'].value_counts()/df_list.shape[0]"
      ],
      "metadata": {
        "colab": {
          "base_uri": "https://localhost:8080/"
        },
        "id": "FtmlF5MFlmKP",
        "outputId": "aafb43b8-d45b-452a-bdea-cd67f7e002ce"
      },
      "execution_count": 12,
      "outputs": [
        {
          "output_type": "execute_result",
          "data": {
            "text/plain": [
              "Seattle, Washington, United States         0.853588\n",
              "US                                         0.064432\n",
              "Spokane, Washington, United States         0.010739\n",
              "Kent, Washington, United States            0.008905\n",
              "Los Angeles, California, United States     0.003405\n",
              "                                             ...   \n",
              "Port Orchard, Washington, United States    0.000262\n",
              "Las Vegas, Nevada, United States           0.000262\n",
              "Bloomington, Indiana, United States        0.000262\n",
              "Houston, Texas, United States              0.000262\n",
              "Arlington, Massachusetts, United States    0.000262\n",
              "Name: host_location, Length: 120, dtype: float64"
            ]
          },
          "metadata": {},
          "execution_count": 12
        }
      ]
    },
    {
      "cell_type": "code",
      "source": [
        "# values for city\n",
        "df_list.city.value_counts()"
      ],
      "metadata": {
        "colab": {
          "base_uri": "https://localhost:8080/"
        },
        "id": "hzzKXkQ7nPJy",
        "outputId": "aefc6af9-9090-4d53-be2c-5f8fdbb62ac9"
      },
      "execution_count": 13,
      "outputs": [
        {
          "output_type": "execute_result",
          "data": {
            "text/plain": [
              "Seattle                  3810\n",
              "West Seattle                2\n",
              "Seattle                     2\n",
              "Ballard, Seattle            1\n",
              "西雅图                         1\n",
              "Phinney Ridge Seattle       1\n",
              "seattle                     1\n",
              "Name: city, dtype: int64"
            ]
          },
          "metadata": {},
          "execution_count": 13
        }
      ]
    },
    {
      "cell_type": "code",
      "source": [
        "# values for acceptance rate\n",
        "df_list.host_acceptance_rate.value_counts()"
      ],
      "metadata": {
        "colab": {
          "base_uri": "https://localhost:8080/"
        },
        "id": "hlHnaXi4naYz",
        "outputId": "fe7d217f-50dc-41f4-fe6a-3f81da963d6f"
      },
      "execution_count": 14,
      "outputs": [
        {
          "output_type": "execute_result",
          "data": {
            "text/plain": [
              "100%    3044\n",
              "0%         1\n",
              "Name: host_acceptance_rate, dtype: int64"
            ]
          },
          "metadata": {},
          "execution_count": 14
        }
      ]
    },
    {
      "cell_type": "markdown",
      "source": [
        "We found 16 levels for the property types so is not that bad to work with this variable as a dummie"
      ],
      "metadata": {
        "id": "aVByo4XmnkFj"
      }
    },
    {
      "cell_type": "code",
      "source": [
        "# property types\n",
        "df_list.property_type.value_counts()"
      ],
      "metadata": {
        "colab": {
          "base_uri": "https://localhost:8080/"
        },
        "id": "WGsVIO7inlOM",
        "outputId": "f207ea1e-27e2-4d20-b42a-f099b8869e9f"
      },
      "execution_count": 15,
      "outputs": [
        {
          "output_type": "execute_result",
          "data": {
            "text/plain": [
              "House              1733\n",
              "Apartment          1708\n",
              "Townhouse           118\n",
              "Condominium          91\n",
              "Loft                 40\n",
              "Bed & Breakfast      37\n",
              "Other                22\n",
              "Cabin                21\n",
              "Camper/RV            13\n",
              "Bungalow             13\n",
              "Boat                  8\n",
              "Tent                  5\n",
              "Treehouse             3\n",
              "Dorm                  2\n",
              "Chalet                2\n",
              "Yurt                  1\n",
              "Name: property_type, dtype: int64"
            ]
          },
          "metadata": {},
          "execution_count": 15
        }
      ]
    },
    {
      "cell_type": "code",
      "source": [
        "#room types\n",
        "df_list.room_type.value_counts()"
      ],
      "metadata": {
        "colab": {
          "base_uri": "https://localhost:8080/"
        },
        "id": "amKW_CX2n6Ns",
        "outputId": "6c4bbf5f-59cc-46b5-e894-6c483802b5b6"
      },
      "execution_count": 16,
      "outputs": [
        {
          "output_type": "execute_result",
          "data": {
            "text/plain": [
              "Entire home/apt    2541\n",
              "Private room       1160\n",
              "Shared room         117\n",
              "Name: room_type, dtype: int64"
            ]
          },
          "metadata": {},
          "execution_count": 16
        }
      ]
    },
    {
      "cell_type": "code",
      "source": [
        "# cancellation policies\n",
        "df_list.cancellation_policy.unique()"
      ],
      "metadata": {
        "colab": {
          "base_uri": "https://localhost:8080/"
        },
        "id": "EaC5wluioRgR",
        "outputId": "952e2d2b-cea0-4641-8b52-84bb3c50ea24"
      },
      "execution_count": 17,
      "outputs": [
        {
          "output_type": "execute_result",
          "data": {
            "text/plain": [
              "array(['moderate', 'strict', 'flexible'], dtype=object)"
            ]
          },
          "metadata": {},
          "execution_count": 17
        }
      ]
    },
    {
      "cell_type": "code",
      "source": [
        "# amenities\n",
        "df_list.amenities.unique()"
      ],
      "metadata": {
        "colab": {
          "base_uri": "https://localhost:8080/"
        },
        "id": "C4MJBnYyqzf1",
        "outputId": "a0bebb10-f02c-48e1-9d23-bff831bbe3c6"
      },
      "execution_count": 18,
      "outputs": [
        {
          "output_type": "execute_result",
          "data": {
            "text/plain": [
              "array(['{TV,\"Cable TV\",Internet,\"Wireless Internet\",\"Air Conditioning\",Kitchen,Heating,\"Family/Kid Friendly\",Washer,Dryer}',\n",
              "       '{TV,Internet,\"Wireless Internet\",Kitchen,\"Free Parking on Premises\",\"Buzzer/Wireless Intercom\",Heating,\"Family/Kid Friendly\",Washer,Dryer,\"Smoke Detector\",\"Carbon Monoxide Detector\",\"First Aid Kit\",\"Safety Card\",\"Fire Extinguisher\",Essentials}',\n",
              "       '{TV,\"Cable TV\",Internet,\"Wireless Internet\",\"Air Conditioning\",Kitchen,\"Free Parking on Premises\",\"Pets Allowed\",\"Pets live on this property\",Dog(s),Cat(s),\"Hot Tub\",\"Indoor Fireplace\",Heating,\"Family/Kid Friendly\",Washer,Dryer,\"Smoke Detector\",\"Carbon Monoxide Detector\",Essentials,Shampoo}',\n",
              "       ...,\n",
              "       '{\"Cable TV\",\"Wireless Internet\",Kitchen,\"Free Parking on Premises\",Breakfast,\"Pets live on this property\",Dog(s),Cat(s),Heating,Washer,Dryer,\"Smoke Detector\",\"First Aid Kit\",\"Safety Card\",\"Fire Extinguisher\",Essentials,Hangers,\"Hair Dryer\",Iron,\"Laptop Friendly Workspace\"}',\n",
              "       '{TV,\"Wireless Internet\",Kitchen,\"Free Parking on Premises\",\"Elevator in Building\",Heating,\"Smoke Detector\",Essentials,Hangers,\"Hair Dryer\",\"Laptop Friendly Workspace\"}',\n",
              "       '{TV,\"Cable TV\",Internet,\"Wireless Internet\",Kitchen,\"Free Parking on Premises\",\"Pets live on this property\",Dog(s),\"Elevator in Building\",\"Hot Tub\",\"Indoor Fireplace\",\"Buzzer/Wireless Intercom\",Heating,\"Family/Kid Friendly\",Washer,Dryer,\"Smoke Detector\",Essentials,Shampoo,Hangers,Iron,\"Laptop Friendly Workspace\"}'],\n",
              "      dtype=object)"
            ]
          },
          "metadata": {},
          "execution_count": 18
        }
      ]
    },
    {
      "cell_type": "code",
      "source": [
        "# booking_ratio_30\n",
        "df_list.availability_30.value_counts()"
      ],
      "metadata": {
        "colab": {
          "base_uri": "https://localhost:8080/"
        },
        "id": "9yGG4V4nuBhd",
        "outputId": "554911cb-2772-4603-e3a3-329d7099beac"
      },
      "execution_count": 19,
      "outputs": [
        {
          "output_type": "execute_result",
          "data": {
            "text/plain": [
              "30    981\n",
              "0     883\n",
              "29    141\n",
              "25    110\n",
              "27    109\n",
              "26    102\n",
              "28     96\n",
              "20     94\n",
              "23     93\n",
              "21     84\n",
              "24     81\n",
              "22     80\n",
              "2      74\n",
              "16     73\n",
              "18     72\n",
              "19     67\n",
              "3      63\n",
              "17     60\n",
              "1      54\n",
              "10     52\n",
              "14     51\n",
              "9      49\n",
              "8      48\n",
              "5      48\n",
              "12     46\n",
              "15     45\n",
              "13     45\n",
              "4      34\n",
              "6      33\n",
              "11     27\n",
              "7      23\n",
              "Name: availability_30, dtype: int64"
            ]
          },
          "metadata": {},
          "execution_count": 19
        }
      ]
    },
    {
      "cell_type": "code",
      "source": [
        "# Count the number of nulls in this relevant columns\n",
        "print('property_type:', df_list['property_type'].isnull().sum())\n",
        "print('room_type    :', df_list['room_type'].isnull().sum())\n",
        "print('accommodates :', df_list['accommodates'].isnull().sum())\n",
        "print('bathrooms    :', df_list['bathrooms'].isnull().sum())\n",
        "print('bedrooms     :', df_list['bedrooms'].isnull().sum())\n",
        "print('beds         :', df_list['beds'].isnull().sum())\n",
        "print('price        :', df_list['price'].isnull().sum())"
      ],
      "metadata": {
        "colab": {
          "base_uri": "https://localhost:8080/"
        },
        "id": "VtfNCiHZ-FQ8",
        "outputId": "cced4ed4-ea43-4539-871e-1d3705a0e0ba"
      },
      "execution_count": 20,
      "outputs": [
        {
          "output_type": "stream",
          "name": "stdout",
          "text": [
            "property_type: 1\n",
            "room_type    : 0\n",
            "accommodates : 0\n",
            "bathrooms    : 16\n",
            "bedrooms     : 6\n",
            "beds         : 1\n",
            "price        : 0\n"
          ]
        }
      ]
    },
    {
      "cell_type": "markdown",
      "source": [
        "# **3. Data Preparation**"
      ],
      "metadata": {
        "id": "CU_HJrT50yER"
      }
    },
    {
      "cell_type": "markdown",
      "source": [
        "I'm interested is explore the next steps:\n",
        "\n",
        "*   Conver the variaables to the correct datatype\n",
        "*   Drop not relevant columns for our project"
      ],
      "metadata": {
        "id": "3zaJZlK64Ugz"
      }
    },
    {
      "cell_type": "markdown",
      "source": [
        "### **Data Cleaning**"
      ],
      "metadata": {
        "id": "4Zd1cp7S4eFy"
      }
    },
    {
      "cell_type": "code",
      "source": [
        "# Remove Dolar sign & Nulls in the price for calendar and listings data\n",
        "# I decide to remove the properties that does not have price information because i'm interested in analize diferent variables vs the price \n",
        "# in the questions i propose for the project and because just the avaliable properties are the one who has this information\n",
        "df_cal[['price']] = df_cal[['price']].replace('[\\$,]','',regex=True).astype(float)\n",
        "df_cal = df_cal.dropna()\n",
        "\n",
        "df_list.price = df_list.price.str.replace('$', '').str.replace(',', '')\n",
        "df_list['price'] = df_list['price'].astype(float)"
      ],
      "metadata": {
        "colab": {
          "base_uri": "https://localhost:8080/"
        },
        "id": "GUPb9aWz0Mws",
        "outputId": "f6604480-64bb-41ee-a199-928804431bb2"
      },
      "execution_count": 21,
      "outputs": [
        {
          "output_type": "stream",
          "name": "stderr",
          "text": [
            "/usr/local/lib/python3.7/dist-packages/ipykernel_launcher.py:5: FutureWarning: The default value of regex will change from True to False in a future version. In addition, single character regular expressions will *not* be treated as literal strings when regex=True.\n",
            "  \"\"\"\n"
          ]
        }
      ]
    },
    {
      "cell_type": "code",
      "source": [
        "# convert the ID columns into str type\n",
        "df_cal['listing_id'] = df_cal['listing_id'].astype(str)\n",
        "df_list['id'] = df_list['id'].astype(str)"
      ],
      "metadata": {
        "id": "jYTtE6VU43qn"
      },
      "execution_count": 22,
      "outputs": []
    },
    {
      "cell_type": "code",
      "source": [
        "# Join the two datasets\n",
        "\n",
        "df = pd.merge(df_cal, df_list, how='left', left_on='listing_id', right_on='id')\n",
        "df.drop('listing_id', axis=1, inplace=True)"
      ],
      "metadata": {
        "id": "c4vq6AkC5FZn"
      },
      "execution_count": 23,
      "outputs": []
    },
    {
      "cell_type": "code",
      "source": [
        "# convert dato into datatime type\n",
        "df['date'] = pd.to_datetime(df[\"date\"])"
      ],
      "metadata": {
        "id": "uVnJH0Y3AFC4"
      },
      "execution_count": 24,
      "outputs": []
    },
    {
      "cell_type": "code",
      "source": [
        "df.head()"
      ],
      "metadata": {
        "colab": {
          "base_uri": "https://localhost:8080/",
          "height": 820
        },
        "id": "VMYS1ssW6Qmq",
        "outputId": "d3dbe8f0-4aa0-4150-ac85-a6a3032c4f82"
      },
      "execution_count": 25,
      "outputs": [
        {
          "output_type": "execute_result",
          "data": {
            "text/html": [
              "\n",
              "  <div id=\"df-b7a812bc-44fb-4c53-8b91-e58e31aa9d3b\">\n",
              "    <div class=\"colab-df-container\">\n",
              "      <div>\n",
              "<style scoped>\n",
              "    .dataframe tbody tr th:only-of-type {\n",
              "        vertical-align: middle;\n",
              "    }\n",
              "\n",
              "    .dataframe tbody tr th {\n",
              "        vertical-align: top;\n",
              "    }\n",
              "\n",
              "    .dataframe thead th {\n",
              "        text-align: right;\n",
              "    }\n",
              "</style>\n",
              "<table border=\"1\" class=\"dataframe\">\n",
              "  <thead>\n",
              "    <tr style=\"text-align: right;\">\n",
              "      <th></th>\n",
              "      <th>date</th>\n",
              "      <th>available</th>\n",
              "      <th>price_x</th>\n",
              "      <th>id</th>\n",
              "      <th>listing_url</th>\n",
              "      <th>scrape_id</th>\n",
              "      <th>last_scraped</th>\n",
              "      <th>name</th>\n",
              "      <th>summary</th>\n",
              "      <th>space</th>\n",
              "      <th>description</th>\n",
              "      <th>experiences_offered</th>\n",
              "      <th>neighborhood_overview</th>\n",
              "      <th>notes</th>\n",
              "      <th>transit</th>\n",
              "      <th>thumbnail_url</th>\n",
              "      <th>medium_url</th>\n",
              "      <th>picture_url</th>\n",
              "      <th>xl_picture_url</th>\n",
              "      <th>host_id</th>\n",
              "      <th>host_url</th>\n",
              "      <th>host_name</th>\n",
              "      <th>host_since</th>\n",
              "      <th>host_location</th>\n",
              "      <th>host_about</th>\n",
              "      <th>host_response_time</th>\n",
              "      <th>host_response_rate</th>\n",
              "      <th>host_acceptance_rate</th>\n",
              "      <th>host_is_superhost</th>\n",
              "      <th>host_thumbnail_url</th>\n",
              "      <th>host_picture_url</th>\n",
              "      <th>host_neighbourhood</th>\n",
              "      <th>host_listings_count</th>\n",
              "      <th>host_total_listings_count</th>\n",
              "      <th>host_verifications</th>\n",
              "      <th>host_has_profile_pic</th>\n",
              "      <th>host_identity_verified</th>\n",
              "      <th>street</th>\n",
              "      <th>neighbourhood</th>\n",
              "      <th>neighbourhood_cleansed</th>\n",
              "      <th>...</th>\n",
              "      <th>bedrooms</th>\n",
              "      <th>beds</th>\n",
              "      <th>bed_type</th>\n",
              "      <th>amenities</th>\n",
              "      <th>square_feet</th>\n",
              "      <th>price_y</th>\n",
              "      <th>weekly_price</th>\n",
              "      <th>monthly_price</th>\n",
              "      <th>security_deposit</th>\n",
              "      <th>cleaning_fee</th>\n",
              "      <th>guests_included</th>\n",
              "      <th>extra_people</th>\n",
              "      <th>minimum_nights</th>\n",
              "      <th>maximum_nights</th>\n",
              "      <th>calendar_updated</th>\n",
              "      <th>has_availability</th>\n",
              "      <th>availability_30</th>\n",
              "      <th>availability_60</th>\n",
              "      <th>availability_90</th>\n",
              "      <th>availability_365</th>\n",
              "      <th>calendar_last_scraped</th>\n",
              "      <th>number_of_reviews</th>\n",
              "      <th>first_review</th>\n",
              "      <th>last_review</th>\n",
              "      <th>review_scores_rating</th>\n",
              "      <th>review_scores_accuracy</th>\n",
              "      <th>review_scores_cleanliness</th>\n",
              "      <th>review_scores_checkin</th>\n",
              "      <th>review_scores_communication</th>\n",
              "      <th>review_scores_location</th>\n",
              "      <th>review_scores_value</th>\n",
              "      <th>requires_license</th>\n",
              "      <th>license</th>\n",
              "      <th>jurisdiction_names</th>\n",
              "      <th>instant_bookable</th>\n",
              "      <th>cancellation_policy</th>\n",
              "      <th>require_guest_profile_picture</th>\n",
              "      <th>require_guest_phone_verification</th>\n",
              "      <th>calculated_host_listings_count</th>\n",
              "      <th>reviews_per_month</th>\n",
              "    </tr>\n",
              "  </thead>\n",
              "  <tbody>\n",
              "    <tr>\n",
              "      <th>0</th>\n",
              "      <td>2016-01-04</td>\n",
              "      <td>t</td>\n",
              "      <td>85.0</td>\n",
              "      <td>241032</td>\n",
              "      <td>https://www.airbnb.com/rooms/241032</td>\n",
              "      <td>20160104002432</td>\n",
              "      <td>2016-01-04</td>\n",
              "      <td>Stylish Queen Anne Apartment</td>\n",
              "      <td>NaN</td>\n",
              "      <td>Make your self at home in this charming one-be...</td>\n",
              "      <td>Make your self at home in this charming one-be...</td>\n",
              "      <td>none</td>\n",
              "      <td>NaN</td>\n",
              "      <td>NaN</td>\n",
              "      <td>NaN</td>\n",
              "      <td>NaN</td>\n",
              "      <td>NaN</td>\n",
              "      <td>https://a1.muscache.com/ac/pictures/67560560/c...</td>\n",
              "      <td>NaN</td>\n",
              "      <td>956883</td>\n",
              "      <td>https://www.airbnb.com/users/show/956883</td>\n",
              "      <td>Maija</td>\n",
              "      <td>2011-08-11</td>\n",
              "      <td>Seattle, Washington, United States</td>\n",
              "      <td>I am an artist, interior designer, and run a s...</td>\n",
              "      <td>within a few hours</td>\n",
              "      <td>96%</td>\n",
              "      <td>100%</td>\n",
              "      <td>f</td>\n",
              "      <td>https://a0.muscache.com/ac/users/956883/profil...</td>\n",
              "      <td>https://a0.muscache.com/ac/users/956883/profil...</td>\n",
              "      <td>Queen Anne</td>\n",
              "      <td>3.0</td>\n",
              "      <td>3.0</td>\n",
              "      <td>['email', 'phone', 'reviews', 'kba']</td>\n",
              "      <td>t</td>\n",
              "      <td>t</td>\n",
              "      <td>Gilman Dr W, Seattle, WA 98119, United States</td>\n",
              "      <td>Queen Anne</td>\n",
              "      <td>West Queen Anne</td>\n",
              "      <td>...</td>\n",
              "      <td>1.0</td>\n",
              "      <td>1.0</td>\n",
              "      <td>Real Bed</td>\n",
              "      <td>{TV,\"Cable TV\",Internet,\"Wireless Internet\",\"A...</td>\n",
              "      <td>NaN</td>\n",
              "      <td>85.0</td>\n",
              "      <td>NaN</td>\n",
              "      <td>NaN</td>\n",
              "      <td>NaN</td>\n",
              "      <td>NaN</td>\n",
              "      <td>2</td>\n",
              "      <td>$5.00</td>\n",
              "      <td>1</td>\n",
              "      <td>365</td>\n",
              "      <td>4 weeks ago</td>\n",
              "      <td>t</td>\n",
              "      <td>14</td>\n",
              "      <td>41</td>\n",
              "      <td>71</td>\n",
              "      <td>346</td>\n",
              "      <td>2016-01-04</td>\n",
              "      <td>207</td>\n",
              "      <td>2011-11-01</td>\n",
              "      <td>2016-01-02</td>\n",
              "      <td>95.0</td>\n",
              "      <td>10.0</td>\n",
              "      <td>10.0</td>\n",
              "      <td>10.0</td>\n",
              "      <td>10.0</td>\n",
              "      <td>9.0</td>\n",
              "      <td>10.0</td>\n",
              "      <td>f</td>\n",
              "      <td>NaN</td>\n",
              "      <td>WASHINGTON</td>\n",
              "      <td>f</td>\n",
              "      <td>moderate</td>\n",
              "      <td>f</td>\n",
              "      <td>f</td>\n",
              "      <td>2</td>\n",
              "      <td>4.07</td>\n",
              "    </tr>\n",
              "    <tr>\n",
              "      <th>1</th>\n",
              "      <td>2016-01-05</td>\n",
              "      <td>t</td>\n",
              "      <td>85.0</td>\n",
              "      <td>241032</td>\n",
              "      <td>https://www.airbnb.com/rooms/241032</td>\n",
              "      <td>20160104002432</td>\n",
              "      <td>2016-01-04</td>\n",
              "      <td>Stylish Queen Anne Apartment</td>\n",
              "      <td>NaN</td>\n",
              "      <td>Make your self at home in this charming one-be...</td>\n",
              "      <td>Make your self at home in this charming one-be...</td>\n",
              "      <td>none</td>\n",
              "      <td>NaN</td>\n",
              "      <td>NaN</td>\n",
              "      <td>NaN</td>\n",
              "      <td>NaN</td>\n",
              "      <td>NaN</td>\n",
              "      <td>https://a1.muscache.com/ac/pictures/67560560/c...</td>\n",
              "      <td>NaN</td>\n",
              "      <td>956883</td>\n",
              "      <td>https://www.airbnb.com/users/show/956883</td>\n",
              "      <td>Maija</td>\n",
              "      <td>2011-08-11</td>\n",
              "      <td>Seattle, Washington, United States</td>\n",
              "      <td>I am an artist, interior designer, and run a s...</td>\n",
              "      <td>within a few hours</td>\n",
              "      <td>96%</td>\n",
              "      <td>100%</td>\n",
              "      <td>f</td>\n",
              "      <td>https://a0.muscache.com/ac/users/956883/profil...</td>\n",
              "      <td>https://a0.muscache.com/ac/users/956883/profil...</td>\n",
              "      <td>Queen Anne</td>\n",
              "      <td>3.0</td>\n",
              "      <td>3.0</td>\n",
              "      <td>['email', 'phone', 'reviews', 'kba']</td>\n",
              "      <td>t</td>\n",
              "      <td>t</td>\n",
              "      <td>Gilman Dr W, Seattle, WA 98119, United States</td>\n",
              "      <td>Queen Anne</td>\n",
              "      <td>West Queen Anne</td>\n",
              "      <td>...</td>\n",
              "      <td>1.0</td>\n",
              "      <td>1.0</td>\n",
              "      <td>Real Bed</td>\n",
              "      <td>{TV,\"Cable TV\",Internet,\"Wireless Internet\",\"A...</td>\n",
              "      <td>NaN</td>\n",
              "      <td>85.0</td>\n",
              "      <td>NaN</td>\n",
              "      <td>NaN</td>\n",
              "      <td>NaN</td>\n",
              "      <td>NaN</td>\n",
              "      <td>2</td>\n",
              "      <td>$5.00</td>\n",
              "      <td>1</td>\n",
              "      <td>365</td>\n",
              "      <td>4 weeks ago</td>\n",
              "      <td>t</td>\n",
              "      <td>14</td>\n",
              "      <td>41</td>\n",
              "      <td>71</td>\n",
              "      <td>346</td>\n",
              "      <td>2016-01-04</td>\n",
              "      <td>207</td>\n",
              "      <td>2011-11-01</td>\n",
              "      <td>2016-01-02</td>\n",
              "      <td>95.0</td>\n",
              "      <td>10.0</td>\n",
              "      <td>10.0</td>\n",
              "      <td>10.0</td>\n",
              "      <td>10.0</td>\n",
              "      <td>9.0</td>\n",
              "      <td>10.0</td>\n",
              "      <td>f</td>\n",
              "      <td>NaN</td>\n",
              "      <td>WASHINGTON</td>\n",
              "      <td>f</td>\n",
              "      <td>moderate</td>\n",
              "      <td>f</td>\n",
              "      <td>f</td>\n",
              "      <td>2</td>\n",
              "      <td>4.07</td>\n",
              "    </tr>\n",
              "    <tr>\n",
              "      <th>2</th>\n",
              "      <td>2016-01-13</td>\n",
              "      <td>t</td>\n",
              "      <td>85.0</td>\n",
              "      <td>241032</td>\n",
              "      <td>https://www.airbnb.com/rooms/241032</td>\n",
              "      <td>20160104002432</td>\n",
              "      <td>2016-01-04</td>\n",
              "      <td>Stylish Queen Anne Apartment</td>\n",
              "      <td>NaN</td>\n",
              "      <td>Make your self at home in this charming one-be...</td>\n",
              "      <td>Make your self at home in this charming one-be...</td>\n",
              "      <td>none</td>\n",
              "      <td>NaN</td>\n",
              "      <td>NaN</td>\n",
              "      <td>NaN</td>\n",
              "      <td>NaN</td>\n",
              "      <td>NaN</td>\n",
              "      <td>https://a1.muscache.com/ac/pictures/67560560/c...</td>\n",
              "      <td>NaN</td>\n",
              "      <td>956883</td>\n",
              "      <td>https://www.airbnb.com/users/show/956883</td>\n",
              "      <td>Maija</td>\n",
              "      <td>2011-08-11</td>\n",
              "      <td>Seattle, Washington, United States</td>\n",
              "      <td>I am an artist, interior designer, and run a s...</td>\n",
              "      <td>within a few hours</td>\n",
              "      <td>96%</td>\n",
              "      <td>100%</td>\n",
              "      <td>f</td>\n",
              "      <td>https://a0.muscache.com/ac/users/956883/profil...</td>\n",
              "      <td>https://a0.muscache.com/ac/users/956883/profil...</td>\n",
              "      <td>Queen Anne</td>\n",
              "      <td>3.0</td>\n",
              "      <td>3.0</td>\n",
              "      <td>['email', 'phone', 'reviews', 'kba']</td>\n",
              "      <td>t</td>\n",
              "      <td>t</td>\n",
              "      <td>Gilman Dr W, Seattle, WA 98119, United States</td>\n",
              "      <td>Queen Anne</td>\n",
              "      <td>West Queen Anne</td>\n",
              "      <td>...</td>\n",
              "      <td>1.0</td>\n",
              "      <td>1.0</td>\n",
              "      <td>Real Bed</td>\n",
              "      <td>{TV,\"Cable TV\",Internet,\"Wireless Internet\",\"A...</td>\n",
              "      <td>NaN</td>\n",
              "      <td>85.0</td>\n",
              "      <td>NaN</td>\n",
              "      <td>NaN</td>\n",
              "      <td>NaN</td>\n",
              "      <td>NaN</td>\n",
              "      <td>2</td>\n",
              "      <td>$5.00</td>\n",
              "      <td>1</td>\n",
              "      <td>365</td>\n",
              "      <td>4 weeks ago</td>\n",
              "      <td>t</td>\n",
              "      <td>14</td>\n",
              "      <td>41</td>\n",
              "      <td>71</td>\n",
              "      <td>346</td>\n",
              "      <td>2016-01-04</td>\n",
              "      <td>207</td>\n",
              "      <td>2011-11-01</td>\n",
              "      <td>2016-01-02</td>\n",
              "      <td>95.0</td>\n",
              "      <td>10.0</td>\n",
              "      <td>10.0</td>\n",
              "      <td>10.0</td>\n",
              "      <td>10.0</td>\n",
              "      <td>9.0</td>\n",
              "      <td>10.0</td>\n",
              "      <td>f</td>\n",
              "      <td>NaN</td>\n",
              "      <td>WASHINGTON</td>\n",
              "      <td>f</td>\n",
              "      <td>moderate</td>\n",
              "      <td>f</td>\n",
              "      <td>f</td>\n",
              "      <td>2</td>\n",
              "      <td>4.07</td>\n",
              "    </tr>\n",
              "    <tr>\n",
              "      <th>3</th>\n",
              "      <td>2016-01-14</td>\n",
              "      <td>t</td>\n",
              "      <td>85.0</td>\n",
              "      <td>241032</td>\n",
              "      <td>https://www.airbnb.com/rooms/241032</td>\n",
              "      <td>20160104002432</td>\n",
              "      <td>2016-01-04</td>\n",
              "      <td>Stylish Queen Anne Apartment</td>\n",
              "      <td>NaN</td>\n",
              "      <td>Make your self at home in this charming one-be...</td>\n",
              "      <td>Make your self at home in this charming one-be...</td>\n",
              "      <td>none</td>\n",
              "      <td>NaN</td>\n",
              "      <td>NaN</td>\n",
              "      <td>NaN</td>\n",
              "      <td>NaN</td>\n",
              "      <td>NaN</td>\n",
              "      <td>https://a1.muscache.com/ac/pictures/67560560/c...</td>\n",
              "      <td>NaN</td>\n",
              "      <td>956883</td>\n",
              "      <td>https://www.airbnb.com/users/show/956883</td>\n",
              "      <td>Maija</td>\n",
              "      <td>2011-08-11</td>\n",
              "      <td>Seattle, Washington, United States</td>\n",
              "      <td>I am an artist, interior designer, and run a s...</td>\n",
              "      <td>within a few hours</td>\n",
              "      <td>96%</td>\n",
              "      <td>100%</td>\n",
              "      <td>f</td>\n",
              "      <td>https://a0.muscache.com/ac/users/956883/profil...</td>\n",
              "      <td>https://a0.muscache.com/ac/users/956883/profil...</td>\n",
              "      <td>Queen Anne</td>\n",
              "      <td>3.0</td>\n",
              "      <td>3.0</td>\n",
              "      <td>['email', 'phone', 'reviews', 'kba']</td>\n",
              "      <td>t</td>\n",
              "      <td>t</td>\n",
              "      <td>Gilman Dr W, Seattle, WA 98119, United States</td>\n",
              "      <td>Queen Anne</td>\n",
              "      <td>West Queen Anne</td>\n",
              "      <td>...</td>\n",
              "      <td>1.0</td>\n",
              "      <td>1.0</td>\n",
              "      <td>Real Bed</td>\n",
              "      <td>{TV,\"Cable TV\",Internet,\"Wireless Internet\",\"A...</td>\n",
              "      <td>NaN</td>\n",
              "      <td>85.0</td>\n",
              "      <td>NaN</td>\n",
              "      <td>NaN</td>\n",
              "      <td>NaN</td>\n",
              "      <td>NaN</td>\n",
              "      <td>2</td>\n",
              "      <td>$5.00</td>\n",
              "      <td>1</td>\n",
              "      <td>365</td>\n",
              "      <td>4 weeks ago</td>\n",
              "      <td>t</td>\n",
              "      <td>14</td>\n",
              "      <td>41</td>\n",
              "      <td>71</td>\n",
              "      <td>346</td>\n",
              "      <td>2016-01-04</td>\n",
              "      <td>207</td>\n",
              "      <td>2011-11-01</td>\n",
              "      <td>2016-01-02</td>\n",
              "      <td>95.0</td>\n",
              "      <td>10.0</td>\n",
              "      <td>10.0</td>\n",
              "      <td>10.0</td>\n",
              "      <td>10.0</td>\n",
              "      <td>9.0</td>\n",
              "      <td>10.0</td>\n",
              "      <td>f</td>\n",
              "      <td>NaN</td>\n",
              "      <td>WASHINGTON</td>\n",
              "      <td>f</td>\n",
              "      <td>moderate</td>\n",
              "      <td>f</td>\n",
              "      <td>f</td>\n",
              "      <td>2</td>\n",
              "      <td>4.07</td>\n",
              "    </tr>\n",
              "    <tr>\n",
              "      <th>4</th>\n",
              "      <td>2016-01-18</td>\n",
              "      <td>t</td>\n",
              "      <td>85.0</td>\n",
              "      <td>241032</td>\n",
              "      <td>https://www.airbnb.com/rooms/241032</td>\n",
              "      <td>20160104002432</td>\n",
              "      <td>2016-01-04</td>\n",
              "      <td>Stylish Queen Anne Apartment</td>\n",
              "      <td>NaN</td>\n",
              "      <td>Make your self at home in this charming one-be...</td>\n",
              "      <td>Make your self at home in this charming one-be...</td>\n",
              "      <td>none</td>\n",
              "      <td>NaN</td>\n",
              "      <td>NaN</td>\n",
              "      <td>NaN</td>\n",
              "      <td>NaN</td>\n",
              "      <td>NaN</td>\n",
              "      <td>https://a1.muscache.com/ac/pictures/67560560/c...</td>\n",
              "      <td>NaN</td>\n",
              "      <td>956883</td>\n",
              "      <td>https://www.airbnb.com/users/show/956883</td>\n",
              "      <td>Maija</td>\n",
              "      <td>2011-08-11</td>\n",
              "      <td>Seattle, Washington, United States</td>\n",
              "      <td>I am an artist, interior designer, and run a s...</td>\n",
              "      <td>within a few hours</td>\n",
              "      <td>96%</td>\n",
              "      <td>100%</td>\n",
              "      <td>f</td>\n",
              "      <td>https://a0.muscache.com/ac/users/956883/profil...</td>\n",
              "      <td>https://a0.muscache.com/ac/users/956883/profil...</td>\n",
              "      <td>Queen Anne</td>\n",
              "      <td>3.0</td>\n",
              "      <td>3.0</td>\n",
              "      <td>['email', 'phone', 'reviews', 'kba']</td>\n",
              "      <td>t</td>\n",
              "      <td>t</td>\n",
              "      <td>Gilman Dr W, Seattle, WA 98119, United States</td>\n",
              "      <td>Queen Anne</td>\n",
              "      <td>West Queen Anne</td>\n",
              "      <td>...</td>\n",
              "      <td>1.0</td>\n",
              "      <td>1.0</td>\n",
              "      <td>Real Bed</td>\n",
              "      <td>{TV,\"Cable TV\",Internet,\"Wireless Internet\",\"A...</td>\n",
              "      <td>NaN</td>\n",
              "      <td>85.0</td>\n",
              "      <td>NaN</td>\n",
              "      <td>NaN</td>\n",
              "      <td>NaN</td>\n",
              "      <td>NaN</td>\n",
              "      <td>2</td>\n",
              "      <td>$5.00</td>\n",
              "      <td>1</td>\n",
              "      <td>365</td>\n",
              "      <td>4 weeks ago</td>\n",
              "      <td>t</td>\n",
              "      <td>14</td>\n",
              "      <td>41</td>\n",
              "      <td>71</td>\n",
              "      <td>346</td>\n",
              "      <td>2016-01-04</td>\n",
              "      <td>207</td>\n",
              "      <td>2011-11-01</td>\n",
              "      <td>2016-01-02</td>\n",
              "      <td>95.0</td>\n",
              "      <td>10.0</td>\n",
              "      <td>10.0</td>\n",
              "      <td>10.0</td>\n",
              "      <td>10.0</td>\n",
              "      <td>9.0</td>\n",
              "      <td>10.0</td>\n",
              "      <td>f</td>\n",
              "      <td>NaN</td>\n",
              "      <td>WASHINGTON</td>\n",
              "      <td>f</td>\n",
              "      <td>moderate</td>\n",
              "      <td>f</td>\n",
              "      <td>f</td>\n",
              "      <td>2</td>\n",
              "      <td>4.07</td>\n",
              "    </tr>\n",
              "  </tbody>\n",
              "</table>\n",
              "<p>5 rows × 95 columns</p>\n",
              "</div>\n",
              "      <button class=\"colab-df-convert\" onclick=\"convertToInteractive('df-b7a812bc-44fb-4c53-8b91-e58e31aa9d3b')\"\n",
              "              title=\"Convert this dataframe to an interactive table.\"\n",
              "              style=\"display:none;\">\n",
              "        \n",
              "  <svg xmlns=\"http://www.w3.org/2000/svg\" height=\"24px\"viewBox=\"0 0 24 24\"\n",
              "       width=\"24px\">\n",
              "    <path d=\"M0 0h24v24H0V0z\" fill=\"none\"/>\n",
              "    <path d=\"M18.56 5.44l.94 2.06.94-2.06 2.06-.94-2.06-.94-.94-2.06-.94 2.06-2.06.94zm-11 1L8.5 8.5l.94-2.06 2.06-.94-2.06-.94L8.5 2.5l-.94 2.06-2.06.94zm10 10l.94 2.06.94-2.06 2.06-.94-2.06-.94-.94-2.06-.94 2.06-2.06.94z\"/><path d=\"M17.41 7.96l-1.37-1.37c-.4-.4-.92-.59-1.43-.59-.52 0-1.04.2-1.43.59L10.3 9.45l-7.72 7.72c-.78.78-.78 2.05 0 2.83L4 21.41c.39.39.9.59 1.41.59.51 0 1.02-.2 1.41-.59l7.78-7.78 2.81-2.81c.8-.78.8-2.07 0-2.86zM5.41 20L4 18.59l7.72-7.72 1.47 1.35L5.41 20z\"/>\n",
              "  </svg>\n",
              "      </button>\n",
              "      \n",
              "  <style>\n",
              "    .colab-df-container {\n",
              "      display:flex;\n",
              "      flex-wrap:wrap;\n",
              "      gap: 12px;\n",
              "    }\n",
              "\n",
              "    .colab-df-convert {\n",
              "      background-color: #E8F0FE;\n",
              "      border: none;\n",
              "      border-radius: 50%;\n",
              "      cursor: pointer;\n",
              "      display: none;\n",
              "      fill: #1967D2;\n",
              "      height: 32px;\n",
              "      padding: 0 0 0 0;\n",
              "      width: 32px;\n",
              "    }\n",
              "\n",
              "    .colab-df-convert:hover {\n",
              "      background-color: #E2EBFA;\n",
              "      box-shadow: 0px 1px 2px rgba(60, 64, 67, 0.3), 0px 1px 3px 1px rgba(60, 64, 67, 0.15);\n",
              "      fill: #174EA6;\n",
              "    }\n",
              "\n",
              "    [theme=dark] .colab-df-convert {\n",
              "      background-color: #3B4455;\n",
              "      fill: #D2E3FC;\n",
              "    }\n",
              "\n",
              "    [theme=dark] .colab-df-convert:hover {\n",
              "      background-color: #434B5C;\n",
              "      box-shadow: 0px 1px 3px 1px rgba(0, 0, 0, 0.15);\n",
              "      filter: drop-shadow(0px 1px 2px rgba(0, 0, 0, 0.3));\n",
              "      fill: #FFFFFF;\n",
              "    }\n",
              "  </style>\n",
              "\n",
              "      <script>\n",
              "        const buttonEl =\n",
              "          document.querySelector('#df-b7a812bc-44fb-4c53-8b91-e58e31aa9d3b button.colab-df-convert');\n",
              "        buttonEl.style.display =\n",
              "          google.colab.kernel.accessAllowed ? 'block' : 'none';\n",
              "\n",
              "        async function convertToInteractive(key) {\n",
              "          const element = document.querySelector('#df-b7a812bc-44fb-4c53-8b91-e58e31aa9d3b');\n",
              "          const dataTable =\n",
              "            await google.colab.kernel.invokeFunction('convertToInteractive',\n",
              "                                                     [key], {});\n",
              "          if (!dataTable) return;\n",
              "\n",
              "          const docLinkHtml = 'Like what you see? Visit the ' +\n",
              "            '<a target=\"_blank\" href=https://colab.research.google.com/notebooks/data_table.ipynb>data table notebook</a>'\n",
              "            + ' to learn more about interactive tables.';\n",
              "          element.innerHTML = '';\n",
              "          dataTable['output_type'] = 'display_data';\n",
              "          await google.colab.output.renderOutput(dataTable, element);\n",
              "          const docLink = document.createElement('div');\n",
              "          docLink.innerHTML = docLinkHtml;\n",
              "          element.appendChild(docLink);\n",
              "        }\n",
              "      </script>\n",
              "    </div>\n",
              "  </div>\n",
              "  "
            ],
            "text/plain": [
              "        date available  ...  calculated_host_listings_count reviews_per_month\n",
              "0 2016-01-04         t  ...                               2              4.07\n",
              "1 2016-01-05         t  ...                               2              4.07\n",
              "2 2016-01-13         t  ...                               2              4.07\n",
              "3 2016-01-14         t  ...                               2              4.07\n",
              "4 2016-01-18         t  ...                               2              4.07\n",
              "\n",
              "[5 rows x 95 columns]"
            ]
          },
          "metadata": {},
          "execution_count": 25
        }
      ]
    },
    {
      "cell_type": "code",
      "source": [
        "df.info()"
      ],
      "metadata": {
        "colab": {
          "base_uri": "https://localhost:8080/"
        },
        "id": "nzJfZnsc7h3U",
        "outputId": "5ce23c74-f43c-43d2-ce1c-cba016963781"
      },
      "execution_count": 26,
      "outputs": [
        {
          "output_type": "stream",
          "name": "stdout",
          "text": [
            "<class 'pandas.core.frame.DataFrame'>\n",
            "Int64Index: 934542 entries, 0 to 934541\n",
            "Data columns (total 95 columns):\n",
            " #   Column                            Non-Null Count   Dtype         \n",
            "---  ------                            --------------   -----         \n",
            " 0   date                              934542 non-null  datetime64[ns]\n",
            " 1   available                         934542 non-null  object        \n",
            " 2   price_x                           934542 non-null  float64       \n",
            " 3   id                                934542 non-null  object        \n",
            " 4   listing_url                       934542 non-null  object        \n",
            " 5   scrape_id                         934542 non-null  int64         \n",
            " 6   last_scraped                      934542 non-null  object        \n",
            " 7   name                              934542 non-null  object        \n",
            " 8   summary                           884880 non-null  object        \n",
            " 9   space                             806422 non-null  object        \n",
            " 10  description                       934542 non-null  object        \n",
            " 11  experiences_offered               934542 non-null  object        \n",
            " 12  neighborhood_overview             686660 non-null  object        \n",
            " 13  notes                             551477 non-null  object        \n",
            " 14  transit                           711504 non-null  object        \n",
            " 15  thumbnail_url                     857694 non-null  object        \n",
            " 16  medium_url                        857694 non-null  object        \n",
            " 17  picture_url                       934542 non-null  object        \n",
            " 18  xl_picture_url                    857694 non-null  object        \n",
            " 19  host_id                           934542 non-null  int64         \n",
            " 20  host_url                          934542 non-null  object        \n",
            " 21  host_name                         934450 non-null  object        \n",
            " 22  host_since                        934450 non-null  object        \n",
            " 23  host_location                     933208 non-null  object        \n",
            " 24  host_about                        738328 non-null  object        \n",
            " 25  host_response_time                826028 non-null  object        \n",
            " 26  host_response_rate                826028 non-null  object        \n",
            " 27  host_acceptance_rate              764235 non-null  object        \n",
            " 28  host_is_superhost                 934450 non-null  object        \n",
            " 29  host_thumbnail_url                934450 non-null  object        \n",
            " 30  host_picture_url                  934450 non-null  object        \n",
            " 31  host_neighbourhood                859354 non-null  object        \n",
            " 32  host_listings_count               934450 non-null  float64       \n",
            " 33  host_total_listings_count         934450 non-null  float64       \n",
            " 34  host_verifications                934542 non-null  object        \n",
            " 35  host_has_profile_pic              934450 non-null  object        \n",
            " 36  host_identity_verified            934450 non-null  object        \n",
            " 37  street                            934542 non-null  object        \n",
            " 38  neighbourhood                     827611 non-null  object        \n",
            " 39  neighbourhood_cleansed            934542 non-null  object        \n",
            " 40  neighbourhood_group_cleansed      934542 non-null  object        \n",
            " 41  city                              934542 non-null  object        \n",
            " 42  state                             934542 non-null  object        \n",
            " 43  zipcode                           933290 non-null  object        \n",
            " 44  market                            934542 non-null  object        \n",
            " 45  smart_location                    934542 non-null  object        \n",
            " 46  country_code                      934542 non-null  object        \n",
            " 47  country                           934542 non-null  object        \n",
            " 48  latitude                          934542 non-null  float64       \n",
            " 49  longitude                         934542 non-null  float64       \n",
            " 50  is_location_exact                 934542 non-null  object        \n",
            " 51  property_type                     934233 non-null  object        \n",
            " 52  room_type                         934542 non-null  object        \n",
            " 53  accommodates                      934542 non-null  int64         \n",
            " 54  bathrooms                         929739 non-null  float64       \n",
            " 55  bedrooms                          932539 non-null  float64       \n",
            " 56  beds                              934177 non-null  float64       \n",
            " 57  bed_type                          934542 non-null  object        \n",
            " 58  amenities                         934542 non-null  object        \n",
            " 59  square_feet                       26059 non-null   float64       \n",
            " 60  price_y                           934542 non-null  float64       \n",
            " 61  weekly_price                      504763 non-null  object        \n",
            " 62  monthly_price                     398890 non-null  object        \n",
            " 63  security_deposit                  456421 non-null  object        \n",
            " 64  cleaning_fee                      686547 non-null  object        \n",
            " 65  guests_included                   934542 non-null  int64         \n",
            " 66  extra_people                      934542 non-null  object        \n",
            " 67  minimum_nights                    934542 non-null  int64         \n",
            " 68  maximum_nights                    934542 non-null  int64         \n",
            " 69  calendar_updated                  934542 non-null  object        \n",
            " 70  has_availability                  934542 non-null  object        \n",
            " 71  availability_30                   934542 non-null  int64         \n",
            " 72  availability_60                   934542 non-null  int64         \n",
            " 73  availability_90                   934542 non-null  int64         \n",
            " 74  availability_365                  934542 non-null  int64         \n",
            " 75  calendar_last_scraped             934542 non-null  object        \n",
            " 76  number_of_reviews                 934542 non-null  int64         \n",
            " 77  first_review                      795176 non-null  object        \n",
            " 78  last_review                       795176 non-null  object        \n",
            " 79  review_scores_rating              790005 non-null  float64       \n",
            " 80  review_scores_accuracy            788000 non-null  float64       \n",
            " 81  review_scores_cleanliness         788613 non-null  float64       \n",
            " 82  review_scores_checkin             787724 non-null  float64       \n",
            " 83  review_scores_communication       789050 non-null  float64       \n",
            " 84  review_scores_location            788526 non-null  float64       \n",
            " 85  review_scores_value               788428 non-null  float64       \n",
            " 86  requires_license                  934542 non-null  object        \n",
            " 87  license                           0 non-null       float64       \n",
            " 88  jurisdiction_names                934542 non-null  object        \n",
            " 89  instant_bookable                  934542 non-null  object        \n",
            " 90  cancellation_policy               934542 non-null  object        \n",
            " 91  require_guest_profile_picture     934542 non-null  object        \n",
            " 92  require_guest_phone_verification  934542 non-null  object        \n",
            " 93  calculated_host_listings_count    934542 non-null  int64         \n",
            " 94  reviews_per_month                 795176 non-null  float64       \n",
            "dtypes: datetime64[ns](1), float64(19), int64(12), object(63)\n",
            "memory usage: 684.5+ MB\n"
          ]
        }
      ]
    },
    {
      "cell_type": "code",
      "source": [
        "# Drop unnecessary columns\n",
        "\n",
        "#I create the list of variables i'm not interested \n",
        "drop_cols = ['listing_url', 'scrape_id', 'last_scraped', 'experiences_offered',\n",
        "             'name','summary','space','experiences_offered',\n",
        "             'neighborhood_overview', 'notes', 'medium_url', 'picture_url', \n",
        "             'xl_picture_url', 'host_url', 'host_name', 'host_location', \n",
        "             'host_about', 'host_thumbnail_url', 'host_picture_url', \n",
        "             'host_neighbourhood', 'host_total_listings_count', \n",
        "             'host_verifications', 'street', 'neighbourhood', 'city', 'state', 'zipcode', \n",
        "             'market', 'smart_location', 'country_code', 'country', 'price_y',\n",
        "             'weekly_price', 'monthly_price', 'guests_included', \n",
        "             'calendar_updated', 'has_availability', 'calendar_last_scraped', \n",
        "             'first_review', 'last_review', 'requires_license', 'license', \n",
        "             'jurisdiction_names', 'reviews_per_month', 'square_feet']\n",
        "\n",
        "df = df.drop(drop_cols, axis=1)\n",
        "\n",
        "# then i rename the price x to price\n",
        "\n",
        "df.rename(columns={'price_x': 'price'}, inplace=True)"
      ],
      "metadata": {
        "id": "UqvetMB07F2N"
      },
      "execution_count": 27,
      "outputs": []
    },
    {
      "cell_type": "code",
      "source": [
        "df.info()"
      ],
      "metadata": {
        "colab": {
          "base_uri": "https://localhost:8080/"
        },
        "id": "sXPyLQ70_MCV",
        "outputId": "7b5473b0-3d43-484e-96c0-9d3b2182df1e"
      },
      "execution_count": 28,
      "outputs": [
        {
          "output_type": "stream",
          "name": "stdout",
          "text": [
            "<class 'pandas.core.frame.DataFrame'>\n",
            "Int64Index: 934542 entries, 0 to 934541\n",
            "Data columns (total 51 columns):\n",
            " #   Column                            Non-Null Count   Dtype         \n",
            "---  ------                            --------------   -----         \n",
            " 0   date                              934542 non-null  datetime64[ns]\n",
            " 1   available                         934542 non-null  object        \n",
            " 2   price                             934542 non-null  float64       \n",
            " 3   id                                934542 non-null  object        \n",
            " 4   description                       934542 non-null  object        \n",
            " 5   transit                           711504 non-null  object        \n",
            " 6   thumbnail_url                     857694 non-null  object        \n",
            " 7   host_id                           934542 non-null  int64         \n",
            " 8   host_since                        934450 non-null  object        \n",
            " 9   host_response_time                826028 non-null  object        \n",
            " 10  host_response_rate                826028 non-null  object        \n",
            " 11  host_acceptance_rate              764235 non-null  object        \n",
            " 12  host_is_superhost                 934450 non-null  object        \n",
            " 13  host_listings_count               934450 non-null  float64       \n",
            " 14  host_has_profile_pic              934450 non-null  object        \n",
            " 15  host_identity_verified            934450 non-null  object        \n",
            " 16  neighbourhood_cleansed            934542 non-null  object        \n",
            " 17  neighbourhood_group_cleansed      934542 non-null  object        \n",
            " 18  latitude                          934542 non-null  float64       \n",
            " 19  longitude                         934542 non-null  float64       \n",
            " 20  is_location_exact                 934542 non-null  object        \n",
            " 21  property_type                     934233 non-null  object        \n",
            " 22  room_type                         934542 non-null  object        \n",
            " 23  accommodates                      934542 non-null  int64         \n",
            " 24  bathrooms                         929739 non-null  float64       \n",
            " 25  bedrooms                          932539 non-null  float64       \n",
            " 26  beds                              934177 non-null  float64       \n",
            " 27  bed_type                          934542 non-null  object        \n",
            " 28  amenities                         934542 non-null  object        \n",
            " 29  security_deposit                  456421 non-null  object        \n",
            " 30  cleaning_fee                      686547 non-null  object        \n",
            " 31  extra_people                      934542 non-null  object        \n",
            " 32  minimum_nights                    934542 non-null  int64         \n",
            " 33  maximum_nights                    934542 non-null  int64         \n",
            " 34  availability_30                   934542 non-null  int64         \n",
            " 35  availability_60                   934542 non-null  int64         \n",
            " 36  availability_90                   934542 non-null  int64         \n",
            " 37  availability_365                  934542 non-null  int64         \n",
            " 38  number_of_reviews                 934542 non-null  int64         \n",
            " 39  review_scores_rating              790005 non-null  float64       \n",
            " 40  review_scores_accuracy            788000 non-null  float64       \n",
            " 41  review_scores_cleanliness         788613 non-null  float64       \n",
            " 42  review_scores_checkin             787724 non-null  float64       \n",
            " 43  review_scores_communication       789050 non-null  float64       \n",
            " 44  review_scores_location            788526 non-null  float64       \n",
            " 45  review_scores_value               788428 non-null  float64       \n",
            " 46  instant_bookable                  934542 non-null  object        \n",
            " 47  cancellation_policy               934542 non-null  object        \n",
            " 48  require_guest_profile_picture     934542 non-null  object        \n",
            " 49  require_guest_phone_verification  934542 non-null  object        \n",
            " 50  calculated_host_listings_count    934542 non-null  int64         \n",
            "dtypes: datetime64[ns](1), float64(14), int64(10), object(26)\n",
            "memory usage: 370.8+ MB\n"
          ]
        }
      ]
    },
    {
      "cell_type": "markdown",
      "source": [
        "The code in the below cell is taken from one of the Udacity lecture notes (named: HowToBreakIntoTheField.py). This function is used to count the number of listings that contains each amenity in the amenities list."
      ],
      "metadata": {
        "id": "x74lIz6oard0"
      }
    },
    {
      "cell_type": "markdown",
      "source": [
        "#**4. Data Modelling**\n",
        "\n",
        "### ***QUESTIONS***\n",
        "\n",
        "\n",
        "\n"
      ],
      "metadata": {
        "id": "8EiCO1LKDUtY"
      }
    },
    {
      "cell_type": "markdown",
      "source": [
        "### **1. What time of year has the highest and lowest prices?**"
      ],
      "metadata": {
        "id": "99ro2t12FG7S"
      }
    },
    {
      "cell_type": "code",
      "source": [
        "price_for_date = df.groupby(df['date'].dt.strftime('%B'),sort=False)['price'].mean()\n",
        "price_for_date.head()"
      ],
      "metadata": {
        "colab": {
          "base_uri": "https://localhost:8080/"
        },
        "id": "kVG7_kMQFL4A",
        "outputId": "3021590b-f65f-4195-dcb8-a52c7d09f459"
      },
      "execution_count": 29,
      "outputs": [
        {
          "output_type": "execute_result",
          "data": {
            "text/plain": [
              "date\n",
              "January     122.912176\n",
              "February    124.293927\n",
              "March       128.644488\n",
              "April       135.097005\n",
              "May         139.538183\n",
              "Name: price, dtype: float64"
            ]
          },
          "metadata": {},
          "execution_count": 29
        }
      ]
    },
    {
      "cell_type": "code",
      "source": [
        "# graphic\n",
        "\n",
        "price_for_date.plot(kind ='barh',figsize =(10,5));\n",
        "plt.title('Price for month of the year');\n",
        "plt.show()"
      ],
      "metadata": {
        "colab": {
          "base_uri": "https://localhost:8080/",
          "height": 0
        },
        "id": "BI-RUbieFtH6",
        "outputId": "aedff6ed-5c88-44ed-c531-3b76ba5f429a"
      },
      "execution_count": 30,
      "outputs": [
        {
          "output_type": "display_data",
          "data": {
            "image/png": "[encoded data removed]",
            "text/plain": [
              "<Figure size 720x360 with 1 Axes>"
            ]
          },
          "metadata": {
            "needs_background": "light"
          }
        }
      ]
    },
    {
      "cell_type": "markdown",
      "source": [
        "The months in which the properties have the highest prices are june, july, august and september, while the months in which the prices are lowest are january, february and march"
      ],
      "metadata": {
        "id": "RfpGIH_QGXHg"
      }
    },
    {
      "cell_type": "markdown",
      "source": [
        "### **2. What type of rooms has the highest proportion of reservations in the next 60 days?**"
      ],
      "metadata": {
        "id": "eq_l3BUwG30l"
      }
    },
    {
      "cell_type": "code",
      "source": [
        "#I'm gonna to use availability_60 to calculate the proportion of reservations\n",
        "df['availability_60'].isnull().sum()"
      ],
      "metadata": {
        "colab": {
          "base_uri": "https://localhost:8080/"
        },
        "id": "FKUvFmnnG-mX",
        "outputId": "121ae66d-c7d7-423d-ac66-73608be57009"
      },
      "execution_count": 31,
      "outputs": [
        {
          "output_type": "execute_result",
          "data": {
            "text/plain": [
              "0"
            ]
          },
          "metadata": {},
          "execution_count": 31
        }
      ]
    },
    {
      "cell_type": "markdown",
      "source": [
        "Whith the following code I found the percantage on booking ratio of each listing"
      ],
      "metadata": {
        "id": "MsVQsmYrKN7o"
      }
    },
    {
      "cell_type": "code",
      "source": [
        "#creates the column 'booking_ratio_60' \n",
        "df['booking_ratio_60'] = 1 - (df['availability_60']/60)"
      ],
      "metadata": {
        "id": "WogkYJSCJuoX"
      },
      "execution_count": 32,
      "outputs": []
    },
    {
      "cell_type": "code",
      "source": [
        "#Show the first five rows of the new column\n",
        "df['booking_ratio_60'].head()"
      ],
      "metadata": {
        "colab": {
          "base_uri": "https://localhost:8080/"
        },
        "id": "E-jv5QlHJ8lP",
        "outputId": "739e8cc4-92f9-463d-b888-5784a76e9124"
      },
      "execution_count": 33,
      "outputs": [
        {
          "output_type": "execute_result",
          "data": {
            "text/plain": [
              "0    0.316667\n",
              "1    0.316667\n",
              "2    0.316667\n",
              "3    0.316667\n",
              "4    0.316667\n",
              "Name: booking_ratio_60, dtype: float64"
            ]
          },
          "metadata": {},
          "execution_count": 33
        }
      ]
    },
    {
      "cell_type": "code",
      "source": [
        "#information about booking ratios of different room types for next 30 days\n",
        "ratio_60=df.groupby(['room_type'])['booking_ratio_60'].mean().sort_values(ascending=False)\n",
        "ratio_60"
      ],
      "metadata": {
        "colab": {
          "base_uri": "https://localhost:8080/"
        },
        "id": "JMbGPVZGKdOb",
        "outputId": "35028cdf-8d67-4f7e-c93f-09297374c791"
      },
      "execution_count": 34,
      "outputs": [
        {
          "output_type": "execute_result",
          "data": {
            "text/plain": [
              "room_type\n",
              "Entire home/apt    0.307441\n",
              "Private room       0.215429\n",
              "Shared room        0.140511\n",
              "Name: booking_ratio_60, dtype: float64"
            ]
          },
          "metadata": {},
          "execution_count": 34
        }
      ]
    },
    {
      "cell_type": "code",
      "source": [
        "# graphic\n",
        "\n",
        "ratio_60.plot(kind ='barh',figsize =(10,5));\n",
        "plt.title('Booking Ratio in the next 60 Days for room_type');\n",
        "plt.show()"
      ],
      "metadata": {
        "colab": {
          "base_uri": "https://localhost:8080/",
          "height": 0
        },
        "id": "uMEYsZk1Ks78",
        "outputId": "e7fa5125-9bf6-4845-9b10-4a8e0aa80f00"
      },
      "execution_count": 35,
      "outputs": [
        {
          "output_type": "display_data",
          "data": {
            "image/png": "[encoded data removed]",
            "text/plain": [
              "<Figure size 720x360 with 1 Axes>"
            ]
          },
          "metadata": {
            "needs_background": "light"
          }
        }
      ]
    },
    {
      "cell_type": "markdown",
      "source": [
        "The types of rooms that have a higher percentage of reservations is Entire home/apt with more than 30%, following by priver room with about 21% and finally the shared room with about 14%, it seams like the privet soaces are the most prefered for the guest."
      ],
      "metadata": {
        "id": "68PLJirnLvBt"
      }
    },
    {
      "cell_type": "markdown",
      "source": [
        "### **3. The number of bedrooms influences the price?**"
      ],
      "metadata": {
        "id": "QGry9wrLegXy"
      }
    },
    {
      "cell_type": "code",
      "source": [
        "price_for_rom = df.groupby(df['bedrooms'],sort=True)['price'].mean()\n",
        "price_for_rom.head()"
      ],
      "metadata": {
        "colab": {
          "base_uri": "https://localhost:8080/"
        },
        "id": "G5J-aU5xeq-o",
        "outputId": "9240d30f-d0a3-49e5-e525-343c187df29b"
      },
      "execution_count": 36,
      "outputs": [
        {
          "output_type": "execute_result",
          "data": {
            "text/plain": [
              "bedrooms\n",
              "0.0    112.098814\n",
              "1.0    101.334197\n",
              "2.0    198.138838\n",
              "3.0    288.683781\n",
              "4.0    327.427955\n",
              "Name: price, dtype: float64"
            ]
          },
          "metadata": {},
          "execution_count": 36
        }
      ]
    },
    {
      "cell_type": "code",
      "source": [
        "# graphic\n",
        "\n",
        "price_for_rom.plot(kind ='barh',figsize =(10,5));\n",
        "plt.title('Price for number of bedrooms');\n",
        "plt.show()"
      ],
      "metadata": {
        "colab": {
          "base_uri": "https://localhost:8080/",
          "height": 0
        },
        "id": "xGJlj4OSfKDa",
        "outputId": "bddd0721-9715-46d9-9f84-c5c94357eb56"
      },
      "execution_count": 37,
      "outputs": [
        {
          "output_type": "display_data",
          "data": {
            "image/png": "[encoded data removed]",
            "text/plain": [
              "<Figure size 720x360 with 1 Axes>"
            ]
          },
          "metadata": {
            "needs_background": "light"
          }
        }
      ]
    },
    {
      "cell_type": "markdown",
      "source": [
        "After seeing how the variables price and number of rooms are related, we find that these variables do not have a linear relationship, that is, it is not the case that the property with a greater number of rooms has a higher average price, in fact we can see in the graph that the properties with 6,7 and 5 rooms tend to be the most expensive on average"
      ],
      "metadata": {
        "id": "Trt5WZI8hVPH"
      }
    },
    {
      "cell_type": "markdown",
      "source": [
        "### **4. The number of bathrooms influences the price?**"
      ],
      "metadata": {
        "id": "0Z643-WAH-p9"
      }
    },
    {
      "cell_type": "code",
      "source": [
        "price_for_br = df.groupby(df['bathrooms'],sort=True)['price'].mean()\n",
        "price_for_br.head()"
      ],
      "metadata": {
        "colab": {
          "base_uri": "https://localhost:8080/"
        },
        "id": "-wphmgM9fnDI",
        "outputId": "a7b11932-0dfe-48b2-f042-29099efff7a2"
      },
      "execution_count": 38,
      "outputs": [
        {
          "output_type": "execute_result",
          "data": {
            "text/plain": [
              "bathrooms\n",
              "0.0     69.455312\n",
              "0.5     75.086867\n",
              "1.0    113.616777\n",
              "1.5    135.760129\n",
              "2.0    216.026485\n",
              "Name: price, dtype: float64"
            ]
          },
          "metadata": {},
          "execution_count": 38
        }
      ]
    },
    {
      "cell_type": "code",
      "source": [
        "# graphic\n",
        "\n",
        "price_for_br.plot(kind ='barh',figsize =(10,5));\n",
        "plt.title('Price for number of bathrooms');\n",
        "plt.show()"
      ],
      "metadata": {
        "colab": {
          "base_uri": "https://localhost:8080/",
          "height": 0
        },
        "id": "SzIqe7uGgdvY",
        "outputId": "0f4824ce-31b1-4a6a-a502-a3cd49846fc4"
      },
      "execution_count": 39,
      "outputs": [
        {
          "output_type": "display_data",
          "data": {
            "image/png": "[encoded data removed]",
            "text/plain": [
              "<Figure size 720x360 with 1 Axes>"
            ]
          },
          "metadata": {
            "needs_background": "light"
          }
        }
      ]
    },
    {
      "cell_type": "markdown",
      "source": [
        "Despite of the relationship between the price and the number of bathrooms, we find that these variables do not have a linear relationship, as we saw with the number of rooms, in this case the properties with a higher average price are those that have four and a half bathrooms and four full bathrooms"
      ],
      "metadata": {
        "id": "fa2km8pxiXRY"
      }
    },
    {
      "cell_type": "markdown",
      "source": [
        "### **5. How is the relationship between property type price of them?**"
      ],
      "metadata": {
        "id": "nZP9dyVXIEHt"
      }
    },
    {
      "cell_type": "code",
      "source": [
        "price_for_pt = df.groupby(df['property_type'],sort=True)['price'].mean()\n",
        "price_for_pt.head()"
      ],
      "metadata": {
        "colab": {
          "base_uri": "https://localhost:8080/"
        },
        "id": "rJpTMIsFieis",
        "outputId": "fb8124c1-91bc-4aaa-d92f-25c5a8dd84fa"
      },
      "execution_count": 40,
      "outputs": [
        {
          "output_type": "execute_result",
          "data": {
            "text/plain": [
              "property_type\n",
              "Apartment          139.285106\n",
              "Bed & Breakfast    116.048976\n",
              "Boat               330.618901\n",
              "Bungalow           124.330813\n",
              "Cabin              114.292208\n",
              "Name: price, dtype: float64"
            ]
          },
          "metadata": {},
          "execution_count": 40
        }
      ]
    },
    {
      "cell_type": "code",
      "source": [
        "# graphic\n",
        "\n",
        "price_for_pt.plot(kind ='barh',figsize =(10,5));\n",
        "plt.title('Price for property type');\n",
        "plt.show()"
      ],
      "metadata": {
        "colab": {
          "base_uri": "https://localhost:8080/",
          "height": 336
        },
        "id": "QBs2Ethfiutw",
        "outputId": "4d4d8a18-f3bc-4c2f-9587-1cc8c242e396"
      },
      "execution_count": 41,
      "outputs": [
        {
          "output_type": "display_data",
          "data": {
            "image/png": "[encoded data removed]",
            "text/plain": [
              "<Figure size 720x360 with 1 Axes>"
            ]
          },
          "metadata": {
            "needs_background": "light"
          }
        }
      ]
    },
    {
      "cell_type": "markdown",
      "source": [
        "The type of property with the highest prices are the boats with prices that far exceed the other categories, while the type of property with the lowest average prices are Dorm, tent and treehouse."
      ],
      "metadata": {
        "id": "RgNI2W3zmsMB"
      }
    },
    {
      "cell_type": "code",
      "source": [
        "#To create the next table I consult the way to do it in this page: https://jamesrledoux.com/code/group-by-aggregate-pandas\n",
        "# Create Table of mean of the mean for property type and the bed type ofered by them\n",
        "price_for= pd.DataFrame(df.groupby(['property_type', 'bed_type']).agg({'price': ['mean']}))\n",
        "price_for = price_for.reset_index()\n",
        "print(price_for)"
      ],
      "metadata": {
        "colab": {
          "base_uri": "https://localhost:8080/"
        },
        "id": "HcsyohTYi8-0",
        "outputId": "561abe15-9896-4f96-a0c9-946fc37d7ffc"
      },
      "execution_count": 42,
      "outputs": [
        {
          "output_type": "stream",
          "name": "stdout",
          "text": [
            "      property_type       bed_type       price\n",
            "                                          mean\n",
            "0         Apartment         Airbed   92.535052\n",
            "1         Apartment          Couch   78.432169\n",
            "2         Apartment          Futon   74.889750\n",
            "3         Apartment  Pull-out Sofa  100.502308\n",
            "4         Apartment       Real Bed  142.356327\n",
            "5   Bed & Breakfast          Couch   33.871148\n",
            "6   Bed & Breakfast       Real Bed  119.135508\n",
            "7              Boat          Couch   75.000000\n",
            "8              Boat       Real Bed  334.265716\n",
            "9          Bungalow       Real Bed  124.330813\n",
            "10            Cabin          Futon   91.170088\n",
            "11            Cabin       Real Bed  115.955284\n",
            "12        Camper/RV  Pull-out Sofa   79.321330\n",
            "13        Camper/RV       Real Bed  132.544089\n",
            "14           Chalet       Real Bed   93.509009\n",
            "15      Condominium          Futon  150.000000\n",
            "16      Condominium  Pull-out Sofa   75.000000\n",
            "17      Condominium       Real Bed  171.472791\n",
            "18             Dorm       Real Bed   39.384977\n",
            "19            House         Airbed  118.687430\n",
            "20            House          Couch   37.000000\n",
            "21            House          Futon   64.494994\n",
            "22            House  Pull-out Sofa   68.267709\n",
            "23            House       Real Bed  138.600289\n",
            "24             Loft  Pull-out Sofa  155.207133\n",
            "25             Loft       Real Bed  131.736084\n",
            "26            Other          Futon  125.800000\n",
            "27            Other  Pull-out Sofa   43.125000\n",
            "28            Other       Real Bed  106.511642\n",
            "29             Tent         Airbed   65.000000\n",
            "30             Tent       Real Bed   52.651515\n",
            "31        Townhouse         Airbed   33.000000\n",
            "32        Townhouse          Couch   40.854795\n",
            "33        Townhouse          Futon   78.681319\n",
            "34        Townhouse  Pull-out Sofa   84.071429\n",
            "35        Townhouse       Real Bed  136.500621\n",
            "36        Treehouse       Real Bed   64.346211\n",
            "37             Yurt       Real Bed  105.423729\n"
          ]
        }
      ]
    },
    {
      "cell_type": "markdown",
      "source": [
        "We found that a factor that significantly increases the price is the type of bed, since for all types of properties those with real beds are the most expensive."
      ],
      "metadata": {
        "id": "VzcC14d0mzYn"
      }
    },
    {
      "cell_type": "markdown",
      "source": [
        "### **6. What are the most common amenities in the listings?**"
      ],
      "metadata": {
        "id": "_l1jahbjIACN"
      }
    },
    {
      "cell_type": "markdown",
      "source": [
        "\n",
        "To answer this question, let's see the way in which the information of this variable comes through a frequency table."
      ],
      "metadata": {
        "id": "7MLOjFT7IQ9K"
      }
    },
    {
      "cell_type": "code",
      "source": [
        "#I create a dataframe which has lists of amenities as one column and the count of these amenities \n",
        "amenities = df_list['amenities'].value_counts().reset_index()\n",
        "amenities.rename(columns={'index': 'amenities', 'amenities': 'count'}, inplace=True)\n",
        "amenities"
      ],
      "metadata": {
        "colab": {
          "base_uri": "https://localhost:8080/",
          "height": 423
        },
        "id": "Tou2a2DsH_A2",
        "outputId": "8af5cbe4-73d1-4bd2-c322-1bfde8fbc3cb"
      },
      "execution_count": 43,
      "outputs": [
        {
          "output_type": "execute_result",
          "data": {
            "text/html": [
              "\n",
              "  <div id=\"df-d8d24647-70d5-402f-a2cf-8058e0f4ed7f\">\n",
              "    <div class=\"colab-df-container\">\n",
              "      <div>\n",
              "<style scoped>\n",
              "    .dataframe tbody tr th:only-of-type {\n",
              "        vertical-align: middle;\n",
              "    }\n",
              "\n",
              "    .dataframe tbody tr th {\n",
              "        vertical-align: top;\n",
              "    }\n",
              "\n",
              "    .dataframe thead th {\n",
              "        text-align: right;\n",
              "    }\n",
              "</style>\n",
              "<table border=\"1\" class=\"dataframe\">\n",
              "  <thead>\n",
              "    <tr style=\"text-align: right;\">\n",
              "      <th></th>\n",
              "      <th>amenities</th>\n",
              "      <th>count</th>\n",
              "    </tr>\n",
              "  </thead>\n",
              "  <tbody>\n",
              "    <tr>\n",
              "      <th>0</th>\n",
              "      <td>{}</td>\n",
              "      <td>45</td>\n",
              "    </tr>\n",
              "    <tr>\n",
              "      <th>1</th>\n",
              "      <td>{Internet,\"Wireless Internet\",Kitchen,\"Free Pa...</td>\n",
              "      <td>11</td>\n",
              "    </tr>\n",
              "    <tr>\n",
              "      <th>2</th>\n",
              "      <td>{TV,\"Cable TV\",Internet,\"Wireless Internet\",Po...</td>\n",
              "      <td>10</td>\n",
              "    </tr>\n",
              "    <tr>\n",
              "      <th>3</th>\n",
              "      <td>{TV,\"Cable TV\",Internet,\"Wireless Internet\",Ki...</td>\n",
              "      <td>8</td>\n",
              "    </tr>\n",
              "    <tr>\n",
              "      <th>4</th>\n",
              "      <td>{TV,Internet,\"Wireless Internet\",\"Air Conditio...</td>\n",
              "      <td>7</td>\n",
              "    </tr>\n",
              "    <tr>\n",
              "      <th>...</th>\n",
              "      <td>...</td>\n",
              "      <td>...</td>\n",
              "    </tr>\n",
              "    <tr>\n",
              "      <th>3279</th>\n",
              "      <td>{TV,Internet,\"Wireless Internet\",\"Air Conditio...</td>\n",
              "      <td>1</td>\n",
              "    </tr>\n",
              "    <tr>\n",
              "      <th>3280</th>\n",
              "      <td>{\"Cable TV\",\"Wireless Internet\",\"Air Condition...</td>\n",
              "      <td>1</td>\n",
              "    </tr>\n",
              "    <tr>\n",
              "      <th>3281</th>\n",
              "      <td>{TV,\"Cable TV\",Internet,\"Wireless Internet\",\"A...</td>\n",
              "      <td>1</td>\n",
              "    </tr>\n",
              "    <tr>\n",
              "      <th>3282</th>\n",
              "      <td>{TV,\"Cable TV\",Internet,\"Wireless Internet\",Ki...</td>\n",
              "      <td>1</td>\n",
              "    </tr>\n",
              "    <tr>\n",
              "      <th>3283</th>\n",
              "      <td>{TV,\"Cable TV\",Internet,\"Wireless Internet\",Ki...</td>\n",
              "      <td>1</td>\n",
              "    </tr>\n",
              "  </tbody>\n",
              "</table>\n",
              "<p>3284 rows × 2 columns</p>\n",
              "</div>\n",
              "      <button class=\"colab-df-convert\" onclick=\"convertToInteractive('df-d8d24647-70d5-402f-a2cf-8058e0f4ed7f')\"\n",
              "              title=\"Convert this dataframe to an interactive table.\"\n",
              "              style=\"display:none;\">\n",
              "        \n",
              "  <svg xmlns=\"http://www.w3.org/2000/svg\" height=\"24px\"viewBox=\"0 0 24 24\"\n",
              "       width=\"24px\">\n",
              "    <path d=\"M0 0h24v24H0V0z\" fill=\"none\"/>\n",
              "    <path d=\"M18.56 5.44l.94 2.06.94-2.06 2.06-.94-2.06-.94-.94-2.06-.94 2.06-2.06.94zm-11 1L8.5 8.5l.94-2.06 2.06-.94-2.06-.94L8.5 2.5l-.94 2.06-2.06.94zm10 10l.94 2.06.94-2.06 2.06-.94-2.06-.94-.94-2.06-.94 2.06-2.06.94z\"/><path d=\"M17.41 7.96l-1.37-1.37c-.4-.4-.92-.59-1.43-.59-.52 0-1.04.2-1.43.59L10.3 9.45l-7.72 7.72c-.78.78-.78 2.05 0 2.83L4 21.41c.39.39.9.59 1.41.59.51 0 1.02-.2 1.41-.59l7.78-7.78 2.81-2.81c.8-.78.8-2.07 0-2.86zM5.41 20L4 18.59l7.72-7.72 1.47 1.35L5.41 20z\"/>\n",
              "  </svg>\n",
              "      </button>\n",
              "      \n",
              "  <style>\n",
              "    .colab-df-container {\n",
              "      display:flex;\n",
              "      flex-wrap:wrap;\n",
              "      gap: 12px;\n",
              "    }\n",
              "\n",
              "    .colab-df-convert {\n",
              "      background-color: #E8F0FE;\n",
              "      border: none;\n",
              "      border-radius: 50%;\n",
              "      cursor: pointer;\n",
              "      display: none;\n",
              "      fill: #1967D2;\n",
              "      height: 32px;\n",
              "      padding: 0 0 0 0;\n",
              "      width: 32px;\n",
              "    }\n",
              "\n",
              "    .colab-df-convert:hover {\n",
              "      background-color: #E2EBFA;\n",
              "      box-shadow: 0px 1px 2px rgba(60, 64, 67, 0.3), 0px 1px 3px 1px rgba(60, 64, 67, 0.15);\n",
              "      fill: #174EA6;\n",
              "    }\n",
              "\n",
              "    [theme=dark] .colab-df-convert {\n",
              "      background-color: #3B4455;\n",
              "      fill: #D2E3FC;\n",
              "    }\n",
              "\n",
              "    [theme=dark] .colab-df-convert:hover {\n",
              "      background-color: #434B5C;\n",
              "      box-shadow: 0px 1px 3px 1px rgba(0, 0, 0, 0.15);\n",
              "      filter: drop-shadow(0px 1px 2px rgba(0, 0, 0, 0.3));\n",
              "      fill: #FFFFFF;\n",
              "    }\n",
              "  </style>\n",
              "\n",
              "      <script>\n",
              "        const buttonEl =\n",
              "          document.querySelector('#df-d8d24647-70d5-402f-a2cf-8058e0f4ed7f button.colab-df-convert');\n",
              "        buttonEl.style.display =\n",
              "          google.colab.kernel.accessAllowed ? 'block' : 'none';\n",
              "\n",
              "        async function convertToInteractive(key) {\n",
              "          const element = document.querySelector('#df-d8d24647-70d5-402f-a2cf-8058e0f4ed7f');\n",
              "          const dataTable =\n",
              "            await google.colab.kernel.invokeFunction('convertToInteractive',\n",
              "                                                     [key], {});\n",
              "          if (!dataTable) return;\n",
              "\n",
              "          const docLinkHtml = 'Like what you see? Visit the ' +\n",
              "            '<a target=\"_blank\" href=https://colab.research.google.com/notebooks/data_table.ipynb>data table notebook</a>'\n",
              "            + ' to learn more about interactive tables.';\n",
              "          element.innerHTML = '';\n",
              "          dataTable['output_type'] = 'display_data';\n",
              "          await google.colab.output.renderOutput(dataTable, element);\n",
              "          const docLink = document.createElement('div');\n",
              "          docLink.innerHTML = docLinkHtml;\n",
              "          element.appendChild(docLink);\n",
              "        }\n",
              "      </script>\n",
              "    </div>\n",
              "  </div>\n",
              "  "
            ],
            "text/plain": [
              "                                              amenities  count\n",
              "0                                                    {}     45\n",
              "1     {Internet,\"Wireless Internet\",Kitchen,\"Free Pa...     11\n",
              "2     {TV,\"Cable TV\",Internet,\"Wireless Internet\",Po...     10\n",
              "3     {TV,\"Cable TV\",Internet,\"Wireless Internet\",Ki...      8\n",
              "4     {TV,Internet,\"Wireless Internet\",\"Air Conditio...      7\n",
              "...                                                 ...    ...\n",
              "3279  {TV,Internet,\"Wireless Internet\",\"Air Conditio...      1\n",
              "3280  {\"Cable TV\",\"Wireless Internet\",\"Air Condition...      1\n",
              "3281  {TV,\"Cable TV\",Internet,\"Wireless Internet\",\"A...      1\n",
              "3282  {TV,\"Cable TV\",Internet,\"Wireless Internet\",Ki...      1\n",
              "3283  {TV,\"Cable TV\",Internet,\"Wireless Internet\",Ki...      1\n",
              "\n",
              "[3284 rows x 2 columns]"
            ]
          },
          "metadata": {},
          "execution_count": 43
        }
      ]
    },
    {
      "cell_type": "markdown",
      "source": [
        "As we can see, we have make a little bit of clean in this variable because we have many amenities from single property, to do this, first we have to extract the strings from the {}, then split the text string an finally obtain the counts from every ammenitie to find the aswer to our question "
      ],
      "metadata": {
        "id": "uUNYnP7DI2m3"
      }
    },
    {
      "cell_type": "markdown",
      "source": [
        "I want to create a similar proces that we see in the clasroom, first  have to get the list with all the unique amenities of the properties"
      ],
      "metadata": {
        "id": "F_gY1qKONY-A"
      }
    },
    {
      "cell_type": "code",
      "source": [
        "# Create a fuction to extract a list with the unique amenities\n",
        "def clean_amenities(df, col):\n",
        "    \n",
        "  amenities_list = df[col].str.replace('{', '').str.replace('}', '')\n",
        "  amenities_list = amenities_list.str.split(',', expand=True).stack()\n",
        "  amenities_list.append(amenities_list)\n",
        "  amenities_list_unique = amenities_list.unique()\n",
        "\n",
        "  '''\n",
        "    INPUT:\n",
        "    df - the pandas dataframe you want to search\n",
        "    col - the column name you want to look through in this case amenities\n",
        "    \n",
        "    OUTPUT:\n",
        "    amenities_list_unique - a list with the unique values for amenities\n",
        "    '''\n",
        "  return amenities_list_unique"
      ],
      "metadata": {
        "id": "HgURzuKpNNP8"
      },
      "execution_count": 44,
      "outputs": []
    },
    {
      "cell_type": "markdown",
      "source": [
        "The function above is a necesary parameter we need to use the function tha we see in the exercise HowToBreakIntoTheField.py, so i took the fuction. This function is used to count the number of listings that contains each amenity in the amenities list."
      ],
      "metadata": {
        "id": "H5864Nu5Pf72"
      }
    },
    {
      "cell_type": "code",
      "source": [
        "def total_count(df, col1, col2, look_for):\n",
        "    '''\n",
        "    INPUT:\n",
        "    df - the pandas dataframe you want to search\n",
        "    col1 - the column name you want to look through\n",
        "    col2 - the column you want to count values from\n",
        "    look_for - a list of strings you want to search for in each row of df[col]\n",
        "\n",
        "    OUTPUT:\n",
        "    new_df - a dataframe of each look_for with the count of how often it shows up\n",
        "    '''\n",
        "    new_df = defaultdict(int)\n",
        "    #loop through list of amenities\n",
        "    for val in look_for:\n",
        "        #loop through rows\n",
        "        for idx in range(df.shape[0]):\n",
        "            #if the amenity is in the row add 1\n",
        "            if val in df[col1][idx]:\n",
        "                new_df[val] += int(df[col2][idx])\n",
        "    new_df = pd.DataFrame(pd.Series(new_df)).reset_index()\n",
        "    new_df.columns = [col1, col2]\n",
        "    new_df.sort_values('count', ascending=False, inplace=True)\n",
        "    return new_df"
      ],
      "metadata": {
        "id": "99pQbEizH1WK"
      },
      "execution_count": 45,
      "outputs": []
    },
    {
      "cell_type": "markdown",
      "source": [
        "Noaw I use the fuction clean_amenities"
      ],
      "metadata": {
        "id": "Lta8cmSmP_JU"
      }
    },
    {
      "cell_type": "code",
      "source": [
        "posible_vals= clean_amenities(df_list,'amenities')\n",
        "posible_vals"
      ],
      "metadata": {
        "id": "SF_H-uPlHmoK",
        "colab": {
          "base_uri": "https://localhost:8080/"
        },
        "outputId": "a18c5d61-7a2c-4ddf-c140-76ade9c6b76c"
      },
      "execution_count": 46,
      "outputs": [
        {
          "output_type": "stream",
          "name": "stderr",
          "text": [
            "/usr/local/lib/python3.7/dist-packages/ipykernel_launcher.py:4: FutureWarning: The default value of regex will change from True to False in a future version. In addition, single character regular expressions will *not* be treated as literal strings when regex=True.\n",
            "  after removing the cwd from sys.path.\n"
          ]
        },
        {
          "output_type": "execute_result",
          "data": {
            "text/plain": [
              "array(['TV', '\"Cable TV\"', 'Internet', '\"Wireless Internet\"',\n",
              "       '\"Air Conditioning\"', 'Kitchen', 'Heating',\n",
              "       '\"Family/Kid Friendly\"', 'Washer', 'Dryer',\n",
              "       '\"Free Parking on Premises\"', '\"Buzzer/Wireless Intercom\"',\n",
              "       '\"Smoke Detector\"', '\"Carbon Monoxide Detector\"',\n",
              "       '\"First Aid Kit\"', '\"Safety Card\"', '\"Fire Extinguisher\"',\n",
              "       'Essentials', '\"Pets Allowed\"', '\"Pets live on this property\"',\n",
              "       'Dog(s)', 'Cat(s)', '\"Hot Tub\"', '\"Indoor Fireplace\"', 'Shampoo',\n",
              "       'Breakfast', '\"24-Hour Check-in\"', 'Hangers', '\"Hair Dryer\"',\n",
              "       'Iron', '\"Laptop Friendly Workspace\"', '\"Suitable for Events\"',\n",
              "       '\"Elevator in Building\"', '\"Lock on Bedroom Door\"',\n",
              "       '\"Wheelchair Accessible\"', 'Gym', '', 'Pool', '\"Smoking Allowed\"',\n",
              "       '\"Other pet(s)\"', 'Doorman', '\"Washer / Dryer\"'], dtype=object)"
            ]
          },
          "metadata": {},
          "execution_count": 46
        }
      ]
    },
    {
      "cell_type": "markdown",
      "source": [
        "And in this part a use the total couts to get the number of listings that contain each amenity"
      ],
      "metadata": {
        "id": "iEEXTB-LQJBf"
      }
    },
    {
      "cell_type": "code",
      "source": [
        "#Here with the total_count function, I count the number of listings that contains each amenity in the amenities list.\n",
        "amenities_df = total_count(amenities, 'amenities', 'count', posible_vals)\n",
        "amenities_df.set_index('amenities', inplace=True)\n"
      ],
      "metadata": {
        "id": "t_vpr9JlaPMz"
      },
      "execution_count": 47,
      "outputs": []
    },
    {
      "cell_type": "code",
      "source": [
        "#Here we drop the null a,enities because this don't bring us any importat information\n",
        "filtro = amenities_df['count'] < 3818\n",
        "amenities_df = amenities_df[filtro]"
      ],
      "metadata": {
        "id": "Dd-ZLGtVSdFI"
      },
      "execution_count": 48,
      "outputs": []
    },
    {
      "cell_type": "markdown",
      "source": [
        "Finally we obtain the results in the next graph, where we can see tha the most common amenities in Seattle are:\n",
        "\n",
        "* Internet\n",
        "* Wireless Internet\n",
        "* Heating\n",
        "* Smoke Detector\n",
        "* Essentials"
      ],
      "metadata": {
        "id": "U1oFmscdRF6v"
      }
    },
    {
      "cell_type": "code",
      "source": [
        "#Here I create a bar chart to show the percentage of each amenity from the most common to the least common.\n",
        "Common_amenities = (amenities_df/len(df_list))[:20]\n",
        "\n",
        "Common_amenities.plot(kind='bar',figsize =(10,5));\n",
        "plt.title('Top 10 Most Common Amenities in Seattle Aibnb');\n",
        "plt.show()"
      ],
      "metadata": {
        "colab": {
          "base_uri": "https://localhost:8080/",
          "height": 483
        },
        "id": "wFddELzoREb0",
        "outputId": "8603b53f-b6c6-45b5-8b05-38829a03b5d7"
      },
      "execution_count": 49,
      "outputs": [
        {
          "output_type": "display_data",
          "data": {
            "image/png": "[encoded data removed]",
            "text/plain": [
              "<Figure size 720x360 with 1 Axes>"
            ]
          },
          "metadata": {
            "needs_background": "light"
          }
        }
      ]
    }
  ]
}